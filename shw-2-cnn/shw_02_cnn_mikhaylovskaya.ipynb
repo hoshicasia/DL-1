{
  "metadata": {
    "kernelspec": {
      "name": "python3",
      "display_name": "Python 3",
      "language": "python"
    },
    "language_info": {
      "name": "python",
      "version": "3.10.14",
      "mimetype": "text/x-python",
      "codemirror_mode": {
        "name": "ipython",
        "version": 3
      },
      "pygments_lexer": "ipython3",
      "nbconvert_exporter": "python",
      "file_extension": ".py"
    },
    "accelerator": "GPU",
    "colab": {
      "provenance": []
    },
    "widgets": {
      "application/vnd.jupyter.widget-state+json": {
        "0fee9f5b7bdb4129a71ef0cfe9d3b1fa": {
          "model_module": "@jupyter-widgets/controls",
          "model_module_version": "1.5.0",
          "model_name": "ProgressStyleModel",
          "state": {
            "_model_module": "@jupyter-widgets/controls",
            "_model_module_version": "1.5.0",
            "_model_name": "ProgressStyleModel",
            "_view_count": null,
            "_view_module": "@jupyter-widgets/base",
            "_view_module_version": "1.2.0",
            "_view_name": "StyleView",
            "bar_color": null,
            "description_width": ""
          }
        },
        "17b2be81159e41f1a5c6bb966516572e": {
          "model_module": "@jupyter-widgets/base",
          "model_module_version": "1.2.0",
          "model_name": "LayoutModel",
          "state": {
            "_model_module": "@jupyter-widgets/base",
            "_model_module_version": "1.2.0",
            "_model_name": "LayoutModel",
            "_view_count": null,
            "_view_module": "@jupyter-widgets/base",
            "_view_module_version": "1.2.0",
            "_view_name": "LayoutView",
            "align_content": null,
            "align_items": null,
            "align_self": null,
            "border": null,
            "bottom": null,
            "display": null,
            "flex": null,
            "flex_flow": null,
            "grid_area": null,
            "grid_auto_columns": null,
            "grid_auto_flow": null,
            "grid_auto_rows": null,
            "grid_column": null,
            "grid_gap": null,
            "grid_row": null,
            "grid_template_areas": null,
            "grid_template_columns": null,
            "grid_template_rows": null,
            "height": null,
            "justify_content": null,
            "justify_items": null,
            "left": null,
            "margin": null,
            "max_height": null,
            "max_width": null,
            "min_height": null,
            "min_width": null,
            "object_fit": null,
            "object_position": null,
            "order": null,
            "overflow": null,
            "overflow_x": null,
            "overflow_y": null,
            "padding": null,
            "right": null,
            "top": null,
            "visibility": null,
            "width": null
          }
        },
        "18b20091dbf64b129824a8fb3266e3c0": {
          "model_module": "@jupyter-widgets/controls",
          "model_module_version": "1.5.0",
          "model_name": "DescriptionStyleModel",
          "state": {
            "_model_module": "@jupyter-widgets/controls",
            "_model_module_version": "1.5.0",
            "_model_name": "DescriptionStyleModel",
            "_view_count": null,
            "_view_module": "@jupyter-widgets/base",
            "_view_module_version": "1.2.0",
            "_view_name": "StyleView",
            "description_width": ""
          }
        },
        "22bb21a6c57a413fb7374efe31349e6e": {
          "model_module": "@jupyter-widgets/base",
          "model_module_version": "1.2.0",
          "model_name": "LayoutModel",
          "state": {
            "_model_module": "@jupyter-widgets/base",
            "_model_module_version": "1.2.0",
            "_model_name": "LayoutModel",
            "_view_count": null,
            "_view_module": "@jupyter-widgets/base",
            "_view_module_version": "1.2.0",
            "_view_name": "LayoutView",
            "align_content": null,
            "align_items": null,
            "align_self": null,
            "border": null,
            "bottom": null,
            "display": null,
            "flex": null,
            "flex_flow": null,
            "grid_area": null,
            "grid_auto_columns": null,
            "grid_auto_flow": null,
            "grid_auto_rows": null,
            "grid_column": null,
            "grid_gap": null,
            "grid_row": null,
            "grid_template_areas": null,
            "grid_template_columns": null,
            "grid_template_rows": null,
            "height": null,
            "justify_content": null,
            "justify_items": null,
            "left": null,
            "margin": null,
            "max_height": null,
            "max_width": null,
            "min_height": null,
            "min_width": null,
            "object_fit": null,
            "object_position": null,
            "order": null,
            "overflow": null,
            "overflow_x": null,
            "overflow_y": null,
            "padding": null,
            "right": null,
            "top": null,
            "visibility": null,
            "width": null
          }
        },
        "7d238166caf64537ad9aa2040dcdc1ec": {
          "model_module": "@jupyter-widgets/controls",
          "model_module_version": "1.5.0",
          "model_name": "DescriptionStyleModel",
          "state": {
            "_model_module": "@jupyter-widgets/controls",
            "_model_module_version": "1.5.0",
            "_model_name": "DescriptionStyleModel",
            "_view_count": null,
            "_view_module": "@jupyter-widgets/base",
            "_view_module_version": "1.2.0",
            "_view_name": "StyleView",
            "description_width": ""
          }
        },
        "95c5696493db48738dbdc9940acec1d8": {
          "model_module": "@jupyter-widgets/controls",
          "model_module_version": "1.5.0",
          "model_name": "HTMLModel",
          "state": {
            "_dom_classes": [],
            "_model_module": "@jupyter-widgets/controls",
            "_model_module_version": "1.5.0",
            "_model_name": "HTMLModel",
            "_view_count": null,
            "_view_module": "@jupyter-widgets/controls",
            "_view_module_version": "1.5.0",
            "_view_name": "HTMLView",
            "description": "",
            "description_tooltip": null,
            "layout": "IPY_MODEL_22bb21a6c57a413fb7374efe31349e6e",
            "placeholder": "​",
            "style": "IPY_MODEL_18b20091dbf64b129824a8fb3266e3c0",
            "value": "100%"
          }
        },
        "9bad0d6a00c14229b0d776a2cfe15090": {
          "model_module": "@jupyter-widgets/base",
          "model_module_version": "1.2.0",
          "model_name": "LayoutModel",
          "state": {
            "_model_module": "@jupyter-widgets/base",
            "_model_module_version": "1.2.0",
            "_model_name": "LayoutModel",
            "_view_count": null,
            "_view_module": "@jupyter-widgets/base",
            "_view_module_version": "1.2.0",
            "_view_name": "LayoutView",
            "align_content": null,
            "align_items": null,
            "align_self": null,
            "border": null,
            "bottom": null,
            "display": null,
            "flex": null,
            "flex_flow": null,
            "grid_area": null,
            "grid_auto_columns": null,
            "grid_auto_flow": null,
            "grid_auto_rows": null,
            "grid_column": null,
            "grid_gap": null,
            "grid_row": null,
            "grid_template_areas": null,
            "grid_template_columns": null,
            "grid_template_rows": null,
            "height": null,
            "justify_content": null,
            "justify_items": null,
            "left": null,
            "margin": null,
            "max_height": null,
            "max_width": null,
            "min_height": null,
            "min_width": null,
            "object_fit": null,
            "object_position": null,
            "order": null,
            "overflow": null,
            "overflow_x": null,
            "overflow_y": null,
            "padding": null,
            "right": null,
            "top": null,
            "visibility": null,
            "width": null
          }
        },
        "aa9da821ba0c42b5b051355e50e691f0": {
          "model_module": "@jupyter-widgets/controls",
          "model_module_version": "1.5.0",
          "model_name": "HBoxModel",
          "state": {
            "_dom_classes": [],
            "_model_module": "@jupyter-widgets/controls",
            "_model_module_version": "1.5.0",
            "_model_name": "HBoxModel",
            "_view_count": null,
            "_view_module": "@jupyter-widgets/controls",
            "_view_module_version": "1.5.0",
            "_view_name": "HBoxView",
            "box_style": "",
            "children": [
              "IPY_MODEL_95c5696493db48738dbdc9940acec1d8",
              "IPY_MODEL_fe515a1f743f49d0b251b43919d52a8e",
              "IPY_MODEL_f4f339c969fd4e21bc683ecb2567897b"
            ],
            "layout": "IPY_MODEL_17b2be81159e41f1a5c6bb966516572e"
          }
        },
        "cd991379661b4b4ab405bf66f75c6834": {
          "model_module": "@jupyter-widgets/base",
          "model_module_version": "1.2.0",
          "model_name": "LayoutModel",
          "state": {
            "_model_module": "@jupyter-widgets/base",
            "_model_module_version": "1.2.0",
            "_model_name": "LayoutModel",
            "_view_count": null,
            "_view_module": "@jupyter-widgets/base",
            "_view_module_version": "1.2.0",
            "_view_name": "LayoutView",
            "align_content": null,
            "align_items": null,
            "align_self": null,
            "border": null,
            "bottom": null,
            "display": null,
            "flex": null,
            "flex_flow": null,
            "grid_area": null,
            "grid_auto_columns": null,
            "grid_auto_flow": null,
            "grid_auto_rows": null,
            "grid_column": null,
            "grid_gap": null,
            "grid_row": null,
            "grid_template_areas": null,
            "grid_template_columns": null,
            "grid_template_rows": null,
            "height": null,
            "justify_content": null,
            "justify_items": null,
            "left": null,
            "margin": null,
            "max_height": null,
            "max_width": null,
            "min_height": null,
            "min_width": null,
            "object_fit": null,
            "object_position": null,
            "order": null,
            "overflow": null,
            "overflow_x": null,
            "overflow_y": null,
            "padding": null,
            "right": null,
            "top": null,
            "visibility": null,
            "width": null
          }
        },
        "f4f339c969fd4e21bc683ecb2567897b": {
          "model_module": "@jupyter-widgets/controls",
          "model_module_version": "1.5.0",
          "model_name": "HTMLModel",
          "state": {
            "_dom_classes": [],
            "_model_module": "@jupyter-widgets/controls",
            "_model_module_version": "1.5.0",
            "_model_name": "HTMLModel",
            "_view_count": null,
            "_view_module": "@jupyter-widgets/controls",
            "_view_module_version": "1.5.0",
            "_view_name": "HTMLView",
            "description": "",
            "description_tooltip": null,
            "layout": "IPY_MODEL_cd991379661b4b4ab405bf66f75c6834",
            "placeholder": "​",
            "style": "IPY_MODEL_7d238166caf64537ad9aa2040dcdc1ec",
            "value": " 170498071/170498071 [00:13&lt;00:00, 13339884.37it/s]"
          }
        },
        "fe515a1f743f49d0b251b43919d52a8e": {
          "model_module": "@jupyter-widgets/controls",
          "model_module_version": "1.5.0",
          "model_name": "FloatProgressModel",
          "state": {
            "_dom_classes": [],
            "_model_module": "@jupyter-widgets/controls",
            "_model_module_version": "1.5.0",
            "_model_name": "FloatProgressModel",
            "_view_count": null,
            "_view_module": "@jupyter-widgets/controls",
            "_view_module_version": "1.5.0",
            "_view_name": "ProgressView",
            "bar_style": "success",
            "description": "",
            "description_tooltip": null,
            "layout": "IPY_MODEL_9bad0d6a00c14229b0d776a2cfe15090",
            "max": 170498071,
            "min": 0,
            "orientation": "horizontal",
            "style": "IPY_MODEL_0fee9f5b7bdb4129a71ef0cfe9d3b1fa",
            "value": 170498071
          }
        }
      }
    },
    "kaggle": {
      "accelerator": "nvidiaTeslaT4",
      "dataSources": [],
      "dockerImageVersionId": 30786,
      "isInternetEnabled": true,
      "language": "python",
      "sourceType": "notebook",
      "isGpuEnabled": true
    }
  },
  "nbformat_minor": 0,
  "nbformat": 4,
  "cells": [
    {
      "cell_type": "markdown",
      "source": [
        "# Глубинное обучение 1 / Введение в глубинное обучение, ФКН ВШЭ\n",
        "\n",
        "\n",
        "\n",
        "## Домашнее задание 2: сверточный классификатор.\n",
        "\n",
        "\n",
        "\n",
        "### Общая информация\n",
        "\n",
        "\n",
        "\n",
        "Оценка после штрафа после мягкого дедлайна вычисляется по формуле $M_{\\text{penalty}} = M_{\\text{full}} \\cdot 0.85^{t/1440}$, где $M_{\\text{full}}$ — полная оценка за работу без учета штрафа, а $t$ — время в минутах, прошедшее после мягкого дедлайна (округление до двух цифр после запятой). Таким образом, спустя первые сутки после мягкого дедлайна вы не можете получить оценку выше 8.5, а если сдать через четыре дня после мягкого дедлайна, то ваш максимум — 5.22 балла.\n",
        "\n",
        "\n",
        "\n",
        "### Оценивание и штрафы\n",
        "\n",
        "\n",
        "\n",
        "Максимально допустимая оценка за работу — 10 баллов. Сдавать задание после указанного срока сдачи нельзя.\n",
        "\n",
        "\n",
        "\n",
        "Задание выполняется самостоятельно. «Похожие» решения считаются плагиатом и все задействованные студенты (в том числе те, у кого списали) не могут получить за него больше 0 баллов. Если вы нашли решение какого-то из заданий (или его часть) в открытом источнике, необходимо указать ссылку на этот источник в отдельном блоке в конце вашей работы (скорее всего вы будете не единственным, кто это нашел, поэтому чтобы исключить подозрение в плагиате, необходима ссылка на источник).\n",
        "\n",
        "\n",
        "\n",
        "Неэффективная реализация кода может негативно отразиться на оценке. Также оценка может быть снижена за плохо читаемый код и плохо оформленные графики. Все ответы должны сопровождаться кодом или комментариями о том, как они были получены.\n",
        "\n",
        "\n",
        "\n",
        "### О задании\n",
        "\n",
        "\n",
        "\n",
        "В этом задании вам предстоит познакомиться со сверточными сетями и их обучением для классификации изображений с использованием библиотеки PyTorch.\n"
      ],
      "metadata": {
        "id": "w35Q6hOIy4sk",
        "pycharm": {
          "name": "#%% md\n"
        }
      }
    },
    {
      "cell_type": "code",
      "source": [
        "import torch\n",
        "\n",
        "import torch.nn as nn\n",
        "\n",
        "import torch.nn.functional as F\n",
        "\n",
        "import torch.optim as optim\n",
        "\n",
        "import torchvision\n",
        "\n",
        "import torchvision.transforms as transforms\n",
        "\n",
        "\n",
        "\n",
        "import matplotlib.pyplot as plt\n",
        "\n",
        "import numpy as np\n",
        "\n",
        "\n",
        "\n",
        "from sklearn.model_selection import train_test_split"
      ],
      "metadata": {
        "id": "SaACifdX2QOo",
        "pycharm": {
          "name": "#%%\n"
        },
        "trusted": true,
        "execution": {
          "iopub.status.busy": "2024-11-15T15:43:22.268455Z",
          "iopub.execute_input": "2024-11-15T15:43:22.269315Z",
          "iopub.status.idle": "2024-11-15T15:43:27.165486Z",
          "shell.execute_reply.started": "2024-11-15T15:43:22.269268Z",
          "shell.execute_reply": "2024-11-15T15:43:27.164503Z"
        }
      },
      "outputs": [],
      "execution_count": null
    },
    {
      "cell_type": "markdown",
      "source": [
        "## 0. Загрузка данных\n",
        "\n",
        "\n",
        "\n",
        "Работать мы будем с набором данных [CIFAR10](https://www.cs.toronto.edu/~kriz/cifar.html). CIFAR10 представляет собой набор изображений 32х32 пикселя, разделенных на 10 классов.\n",
        "\n",
        "\n",
        "\n",
        "![title](https://pytorch.org/tutorials/_images/cifar10.png)\n",
        "\n",
        "\n",
        "\n",
        "\n"
      ],
      "metadata": {
        "id": "TIXaUYM-0JFl",
        "pycharm": {
          "name": "#%% md\n"
        }
      }
    },
    {
      "cell_type": "markdown",
      "source": [
        "Набор данных уже определен в <code>torchvision.datasets</code>, так что возьмем его оттуда.\n",
        "\n",
        "\n"
      ],
      "metadata": {
        "id": "g-0EEjl_10vB",
        "pycharm": {
          "name": "#%% md\n"
        }
      }
    },
    {
      "cell_type": "code",
      "source": [
        "def get_cifar10_data(batch_size, transform_train):\n",
        "\n",
        "    torch.manual_seed(0)\n",
        "\n",
        "    np.random.seed(0)\n",
        "\n",
        "\n",
        "\n",
        "    transform_test = transforms.Compose(\n",
        "\n",
        "        [transforms.ToTensor(),\n",
        "\n",
        "         # Переводим цвета пикселей в отрезок [-1, 1]\n",
        "\n",
        "         transforms.Normalize((0.5, 0.5, 0.5), (0.5, 0.5, 0.5))]\n",
        "\n",
        "    )\n",
        "\n",
        "\n",
        "\n",
        "    # Загружаем данные\n",
        "\n",
        "    trainvalset = torchvision.datasets.CIFAR10(root='./data', train=True,\n",
        "\n",
        "                                               download=True, transform=transform_train)\n",
        "\n",
        "    testset = torchvision.datasets.CIFAR10(root='./data', train=False,\n",
        "\n",
        "                                           download=True, transform=transform_test)\n",
        "\n",
        "\n",
        "\n",
        "    # В датасете определено разбиение только на train и test,\n",
        "\n",
        "    # так что валидацию дополнительно выделяем из обучающей выборки\n",
        "\n",
        "    train_idx, valid_idx = train_test_split(np.arange(len(trainvalset)), test_size=0.3,\n",
        "\n",
        "                                            shuffle=True, random_state=0)\n",
        "\n",
        "    trainset = torch.utils.data.Subset(trainvalset, train_idx)\n",
        "\n",
        "    valset = torch.utils.data.Subset(trainvalset, valid_idx)\n",
        "\n",
        "\n",
        "\n",
        "    train_loader = torch.utils.data.DataLoader(trainset, batch_size=batch_size,\n",
        "\n",
        "                                               shuffle=True, num_workers=2)\n",
        "\n",
        "    val_loader = torch.utils.data.DataLoader(valset, batch_size=batch_size,\n",
        "\n",
        "                                             shuffle=False, num_workers=2)\n",
        "\n",
        "    test_loader = torch.utils.data.DataLoader(testset, batch_size=batch_size,\n",
        "\n",
        "                                              shuffle=False, num_workers=2)\n",
        "\n",
        "\n",
        "\n",
        "    return train_loader, val_loader, test_loader\n",
        "\n",
        ""
      ],
      "metadata": {
        "id": "Cbwe92dT3aPZ",
        "pycharm": {
          "name": "#%%\n"
        },
        "trusted": true,
        "execution": {
          "iopub.status.busy": "2024-11-15T15:43:27.167258Z",
          "iopub.execute_input": "2024-11-15T15:43:27.167688Z",
          "iopub.status.idle": "2024-11-15T15:43:27.178061Z",
          "shell.execute_reply.started": "2024-11-15T15:43:27.167654Z",
          "shell.execute_reply": "2024-11-15T15:43:27.176922Z"
        }
      },
      "outputs": [],
      "execution_count": null
    },
    {
      "cell_type": "code",
      "source": [
        "transform = transforms.Compose(\n",
        "\n",
        "        [transforms.ToTensor(),\n",
        "\n",
        "         transforms.Normalize((0.5, 0.5, 0.5), (0.5, 0.5, 0.5))]\n",
        "\n",
        ")\n",
        "\n",
        "\n",
        "\n",
        "train_loader, val_loader, test_loader = get_cifar10_data(batch_size=64,\n",
        "\n",
        "                                                         transform_train=transform)"
      ],
      "metadata": {
        "colab": {
          "base_uri": "https://localhost:8080/",
          "height": 101,
          "referenced_widgets": [
            "aa9da821ba0c42b5b051355e50e691f0",
            "95c5696493db48738dbdc9940acec1d8",
            "fe515a1f743f49d0b251b43919d52a8e",
            "f4f339c969fd4e21bc683ecb2567897b",
            "17b2be81159e41f1a5c6bb966516572e",
            "22bb21a6c57a413fb7374efe31349e6e",
            "18b20091dbf64b129824a8fb3266e3c0",
            "9bad0d6a00c14229b0d776a2cfe15090",
            "0fee9f5b7bdb4129a71ef0cfe9d3b1fa",
            "cd991379661b4b4ab405bf66f75c6834",
            "7d238166caf64537ad9aa2040dcdc1ec"
          ]
        },
        "id": "2G2rLnN5y6Jj",
        "outputId": "542c91e6-44f6-4e26-f1e8-5df3b83fd044",
        "pycharm": {
          "name": "#%%\n"
        },
        "trusted": true,
        "execution": {
          "iopub.status.busy": "2024-11-15T15:43:27.179434Z",
          "iopub.execute_input": "2024-11-15T15:43:27.179788Z",
          "iopub.status.idle": "2024-11-15T15:43:32.565124Z",
          "shell.execute_reply.started": "2024-11-15T15:43:27.179755Z",
          "shell.execute_reply": "2024-11-15T15:43:32.564292Z"
        }
      },
      "outputs": [
        {
          "name": "stdout",
          "text": "Downloading https://www.cs.toronto.edu/~kriz/cifar-10-python.tar.gz to ./data/cifar-10-python.tar.gz\n",
          "output_type": "stream"
        },
        {
          "name": "stderr",
          "text": "100%|██████████| 170498071/170498071 [00:01<00:00, 94621264.75it/s] \n",
          "output_type": "stream"
        },
        {
          "name": "stdout",
          "text": "Extracting ./data/cifar-10-python.tar.gz to ./data\nFiles already downloaded and verified\n",
          "output_type": "stream"
        }
      ],
      "execution_count": null
    },
    {
      "cell_type": "markdown",
      "source": [
        "Посмотрим на изображения:"
      ],
      "metadata": {
        "id": "-82HWgXs77W1",
        "pycharm": {
          "name": "#%% md\n"
        }
      }
    },
    {
      "cell_type": "code",
      "source": [
        "def imshow(img):\n",
        "\n",
        "    img = img / 2 + 0.5\n",
        "\n",
        "    npimg = img.numpy()\n",
        "\n",
        "    plt.imshow(np.transpose(npimg, (1, 2, 0)))\n",
        "\n",
        "    plt.show()\n",
        "\n",
        "\n",
        "\n",
        "\n",
        "\n",
        "dataiter = iter(train_loader)\n",
        "\n",
        "images, labels = next(dataiter)\n",
        "\n",
        "\n",
        "\n",
        "imshow(torchvision.utils.make_grid(images[:4]))\n",
        "\n",
        "\n",
        "\n",
        "classes = ('plane', 'car', 'bird', 'cat',\n",
        "\n",
        "           'deer', 'dog', 'frog', 'horse', 'ship', 'truck')\n",
        "\n",
        "print(*[classes[labels[i]] for i in range(4)])"
      ],
      "metadata": {
        "colab": {
          "base_uri": "https://localhost:8080/",
          "height": 155
        },
        "id": "ACnwaC5iy6L2",
        "outputId": "fd2fc631-ea7b-45f2-9728-eb1c5f9e683c",
        "pycharm": {
          "name": "#%%\n"
        },
        "trusted": true,
        "execution": {
          "iopub.status.busy": "2024-11-15T15:43:32.567324Z",
          "iopub.execute_input": "2024-11-15T15:43:32.567662Z",
          "iopub.status.idle": "2024-11-15T15:43:33.039253Z",
          "shell.execute_reply.started": "2024-11-15T15:43:32.567628Z",
          "shell.execute_reply": "2024-11-15T15:43:33.038005Z"
        }
      },
      "outputs": [
        {
          "output_type": "display_data",
          "data": {
            "text/plain": "<Figure size 640x480 with 1 Axes>",
            "image/png": "[encoded data removed]"
          },
          "metadata": {}
        },
        {
          "name": "stdout",
          "text": "ship frog horse horse\n",
          "output_type": "stream"
        }
      ],
      "execution_count": null
    },
    {
      "cell_type": "markdown",
      "source": [
        "## 1. Задание сверточной сети (3 балла)"
      ],
      "metadata": {
        "id": "KFDilng29YZ_",
        "pycharm": {
          "name": "#%% md\n"
        }
      }
    },
    {
      "cell_type": "markdown",
      "source": [
        "Теперь нам нужно задать сверточную нейронную сеть, которую мы будем обучать классифицировать изображения.\n",
        "\n",
        "\n",
        "\n",
        "Используем сеть, основанную на одном блоке архитектуры ResNet.\n",
        "\n",
        "\n",
        "\n",
        "<img src=\"https://i.ibb.co/2hg962h/basic-block.png\" width=\"500\"/>\n",
        "\n",
        "\n",
        "\n",
        "__Указания:__\n",
        "\n",
        "\n",
        "\n",
        "- Все сверточные слои должны иметь 32 выходных канала, а также не должны изменять ширину и высоту изображения.\n",
        "\n",
        "- Выход блока сократите до размерности 32х4х4, применив average pooling.\n",
        "\n",
        "- Для получения итоговых логитов, распрямите выход пулинга в вектор из 512 элементов, а затем пропустите его через линейный слой."
      ],
      "metadata": {
        "id": "OX7Ul8YbYdQR",
        "pycharm": {
          "name": "#%% md\n"
        }
      }
    },
    {
      "cell_type": "markdown",
      "source": [
        "**Задание 1.1 (3 балла).**\n",
        "\n",
        "\n",
        "\n",
        "Определите архитектуру сети соответственно схеме и указаниям выше.\n",
        "\n",
        "\n",
        "\n",
        "Ключевые слова: <code>Conv2d</code>, <code>BatchNorm2d</code>, <code>AvgPool2d</code>."
      ],
      "metadata": {
        "id": "sbyIylT9O9Dr",
        "pycharm": {
          "name": "#%% md\n"
        }
      }
    },
    {
      "cell_type": "code",
      "source": [
        "n_classes = 10\n",
        "\n",
        "\n",
        "class BasicBlockNet(nn.Module):\n",
        "\n",
        "    def __init__(self):\n",
        "\n",
        "        super().__init__()\n",
        "        self.seq = nn.Sequential(\n",
        "                    nn.Conv2d(3, 32, kernel_size=3, padding=1),\n",
        "                    nn.BatchNorm2d(32),\n",
        "                    nn.ReLU(),\n",
        "                    nn.Conv2d(32, 32, kernel_size=3, padding=1),\n",
        "                    nn.BatchNorm2d(32),\n",
        "                    nn.ReLU()\n",
        "        )\n",
        "        self.passing = nn.Sequential(\n",
        "                    nn.Conv2d(3, 32, kernel_size=1)\n",
        "        )\n",
        "        self.relu = nn.ReLU(inplace=True)\n",
        "        self.avg_pool = nn.AvgPool2d((8, 8))\n",
        "        self.fc = nn.Linear(32 * 4 * 4, n_classes)\n",
        "\n",
        "\n",
        "    def forward(self, x):\n",
        "        block = self.seq(x)\n",
        "        block += self.seq_2(x)\n",
        "        block = self.relu(block)\n",
        "        print(block.shape)\n",
        "        block = self.avg_pool(block)\n",
        "        print(block.shape)\n",
        "        block = torch.flatten(block)\n",
        "        out = self.fc(block)\n",
        "        return out\n",
        "\n",
        "    def forward(self, x):\n",
        "        x = self.seq(x) + self.passing(x)\n",
        "        x = self.relu(x)\n",
        "        x = self.avg_pool(x)\n",
        "        x = torch.flatten(x, 1)\n",
        "        out = self.fc(x)\n",
        "        return out"
      ],
      "metadata": {
        "id": "s9ml1QGKy6N9",
        "pycharm": {
          "name": "#%%\n"
        },
        "trusted": true,
        "execution": {
          "iopub.status.busy": "2024-11-15T15:43:33.041614Z",
          "iopub.execute_input": "2024-11-15T15:43:33.042177Z",
          "iopub.status.idle": "2024-11-15T15:43:33.054638Z",
          "shell.execute_reply.started": "2024-11-15T15:43:33.042131Z",
          "shell.execute_reply": "2024-11-15T15:43:33.053510Z"
        }
      },
      "outputs": [],
      "execution_count": null
    },
    {
      "cell_type": "code",
      "source": [
        "net = BasicBlockNet()\n",
        "\n",
        "net"
      ],
      "metadata": {
        "id": "FI4BQg7Ky6Pw",
        "pycharm": {
          "name": "#%%\n"
        },
        "trusted": true,
        "execution": {
          "iopub.status.busy": "2024-11-15T17:11:25.013730Z",
          "iopub.execute_input": "2024-11-15T17:11:25.014115Z",
          "iopub.status.idle": "2024-11-15T17:11:25.023851Z",
          "shell.execute_reply.started": "2024-11-15T17:11:25.014074Z",
          "shell.execute_reply": "2024-11-15T17:11:25.022777Z"
        },
        "outputId": "2c13131d-c5f3-4e08-cbcf-f0d9ecc61a63"
      },
      "outputs": [
        {
          "execution_count": 51,
          "output_type": "execute_result",
          "data": {
            "text/plain": "BasicBlockNet(\n  (seq): Sequential(\n    (0): Conv2d(3, 32, kernel_size=(3, 3), stride=(1, 1), padding=(1, 1))\n    (1): BatchNorm2d(32, eps=1e-05, momentum=0.1, affine=True, track_running_stats=True)\n    (2): ReLU()\n    (3): Conv2d(32, 32, kernel_size=(3, 3), stride=(1, 1), padding=(1, 1))\n    (4): BatchNorm2d(32, eps=1e-05, momentum=0.1, affine=True, track_running_stats=True)\n    (5): ReLU()\n  )\n  (passing): Sequential(\n    (0): Conv2d(3, 32, kernel_size=(1, 1), stride=(1, 1))\n  )\n  (relu): ReLU(inplace=True)\n  (avg_pool): AvgPool2d(kernel_size=(8, 8), stride=(8, 8), padding=0)\n  (fc): Linear(in_features=512, out_features=10, bias=True)\n)"
          },
          "metadata": {}
        }
      ],
      "execution_count": null
    },
    {
      "cell_type": "markdown",
      "source": [
        "Проверим, что выход сети имеет корректную размерность:"
      ],
      "metadata": {
        "id": "igPoGZEub8d3",
        "pycharm": {
          "name": "#%% md\n"
        }
      }
    },
    {
      "cell_type": "code",
      "source": [
        "assert net(torch.zeros((10, 3, 32, 32))).shape == (10, 10)"
      ],
      "metadata": {
        "id": "cCIzFUpJ_Agw",
        "pycharm": {
          "name": "#%%\n"
        },
        "trusted": true,
        "execution": {
          "iopub.status.busy": "2024-11-15T15:43:33.073572Z",
          "iopub.execute_input": "2024-11-15T15:43:33.073886Z",
          "iopub.status.idle": "2024-11-15T15:43:33.200796Z",
          "shell.execute_reply.started": "2024-11-15T15:43:33.073853Z",
          "shell.execute_reply": "2024-11-15T15:43:33.199663Z"
        }
      },
      "outputs": [],
      "execution_count": null
    },
    {
      "cell_type": "markdown",
      "source": [
        "Чтобы проводить вычисления на GPU, в PyTorch необходимо руками перекладывать объекты, с которыми вы хотите проводить вычисления, на графический ускоритель. Это делается следующим образрм:"
      ],
      "metadata": {
        "id": "08osX622cDGz",
        "pycharm": {
          "name": "#%% md\n"
        }
      }
    },
    {
      "cell_type": "code",
      "source": [
        "device = torch.device('cuda:0' if torch.cuda.is_available() else 'cpu')\n",
        "\n",
        "print(device)"
      ],
      "metadata": {
        "id": "56hDOMCFcDZX",
        "pycharm": {
          "name": "#%%\n"
        },
        "trusted": true,
        "execution": {
          "iopub.status.busy": "2024-11-15T15:43:33.202472Z",
          "iopub.execute_input": "2024-11-15T15:43:33.202978Z",
          "iopub.status.idle": "2024-11-15T15:43:33.265005Z",
          "shell.execute_reply.started": "2024-11-15T15:43:33.202920Z",
          "shell.execute_reply": "2024-11-15T15:43:33.263981Z"
        },
        "outputId": "131e3c53-7223-4807-83fe-a9682096287d"
      },
      "outputs": [
        {
          "name": "stdout",
          "text": "cuda:0\n",
          "output_type": "stream"
        }
      ],
      "execution_count": null
    },
    {
      "cell_type": "code",
      "source": [
        "net = net.to(device)"
      ],
      "metadata": {
        "id": "ohnDWbp0qbtC",
        "pycharm": {
          "name": "#%%\n"
        },
        "trusted": true,
        "execution": {
          "iopub.status.busy": "2024-11-15T17:11:28.388589Z",
          "iopub.execute_input": "2024-11-15T17:11:28.388968Z",
          "iopub.status.idle": "2024-11-15T17:11:28.395351Z",
          "shell.execute_reply.started": "2024-11-15T17:11:28.388931Z",
          "shell.execute_reply": "2024-11-15T17:11:28.394356Z"
        }
      },
      "outputs": [],
      "execution_count": null
    },
    {
      "cell_type": "markdown",
      "source": [
        "Подключение GPU в google.colab:\n",
        "\n",
        "\n",
        "\n",
        "**Среда выполнения** -> **Сменить среду выполнения** -> **Аппаратный ускоритель** -> **GPU**"
      ],
      "metadata": {
        "id": "H_bOlTVUp5QF",
        "pycharm": {
          "name": "#%% md\n"
        }
      }
    },
    {
      "cell_type": "markdown",
      "source": [
        "## 2. Обучение и тестирование модели (3 балла)"
      ],
      "metadata": {
        "id": "AGi6XX_7_Bgg",
        "pycharm": {
          "name": "#%% md\n"
        }
      }
    },
    {
      "cell_type": "markdown",
      "source": [
        "**Задание 2.1 (2 балла).** Переходим к обучению модели. Заполните пропуски в функциях <code>test</code> и <code>train_epoch</code>. В качестве функции потерь будем использовать [кросс-энтропию](https://pytorch.org/docs/stable/generated/torch.nn.functional.cross_entropy.html), а в качестве метрики качества accuracy."
      ],
      "metadata": {
        "id": "0agj_MQoO9Ds",
        "pycharm": {
          "name": "#%% md\n"
        }
      }
    },
    {
      "cell_type": "markdown",
      "source": [
        "Запустим обучение модели. В качестве оптимизатора будем использовать стохастический градиентный спуск, который является де-факто стандартом в задачах компьютерного зрения (наравне с <code>Adam</code>).\n",
        "\n",
        "\n",
        "\n",
        "__Замечание:__ Для достижения наилучшего качества в нашем случае потребуется обучать модель несколько сотен эпох. Однако в целях экономии вашего времени и сил, во всех экспериментах мы ограничимся 20 эпохами."
      ],
      "metadata": {
        "id": "iSOqk_CAO9Dt",
        "pycharm": {
          "name": "#%% md\n"
        }
      }
    },
    {
      "cell_type": "code",
      "source": [
        "def test(model, loader):\n",
        "\n",
        "    loss_log = []\n",
        "\n",
        "    acc_log = []\n",
        "\n",
        "    model.eval()\n",
        "\n",
        "    for data, target in loader:\n",
        "        data, target = data.cuda(), target.cuda()\n",
        "        output = model(data)\n",
        "        pred = torch.argmax(output, dim=1)\n",
        "        acc = torch.mean((pred == target).float())\n",
        "        loss = F.cross_entropy(output, target)\n",
        "        loss_log.append(loss.item())\n",
        "        acc_log.append(acc.item())\n",
        "    return np.mean(loss_log), np.mean(acc_log)\n",
        "\n",
        "\n",
        "\n",
        "def train_epoch(model, optimizer, train_loader):\n",
        "\n",
        "    loss_log = []\n",
        "\n",
        "    acc_log = []\n",
        "\n",
        "    model.train()\n",
        "\n",
        "\n",
        "    for data, target in train_loader:\n",
        "        data, target = data.cuda(), target.cuda()\n",
        "        optimizer.zero_grad()\n",
        "        output = model(data)\n",
        "        pred = torch.argmax(output, dim=1)\n",
        "        acc = torch.mean((pred == target).float())\n",
        "        loss =  F.cross_entropy(output, target)\n",
        "        loss.backward()\n",
        "        optimizer.step()\n",
        "        loss_log.append(loss.item())\n",
        "        acc_log.append(acc.item())\n",
        "\n",
        "    return loss_log, acc_log\n",
        "\n",
        "\n",
        "\n",
        "def train(model, optimizer, n_epochs, train_loader, val_loader, scheduler=None):\n",
        "\n",
        "    train_loss_log, train_acc_log, val_loss_log, val_acc_log = [], [], [], []\n",
        "\n",
        "\n",
        "\n",
        "    for epoch in range(n_epochs):\n",
        "\n",
        "        train_loss, train_acc = train_epoch(model, optimizer, train_loader)\n",
        "\n",
        "        val_loss, val_acc = test(model, val_loader)\n",
        "\n",
        "\n",
        "        train_loss_log.extend(train_loss)\n",
        "\n",
        "        train_acc_log.extend(train_acc)\n",
        "\n",
        "\n",
        "\n",
        "        val_loss_log.append(val_loss)\n",
        "\n",
        "        val_acc_log.append(val_acc)\n",
        "\n",
        "\n",
        "\n",
        "        print(f\"Epoch {epoch}\")\n",
        "\n",
        "        print(f\" train loss: {np.mean(train_loss)}, train acc: {np.mean(train_acc)}\")\n",
        "\n",
        "        print(f\" val loss: {val_loss}, val acc: {val_acc}\\n\")\n",
        "\n",
        "\n",
        "\n",
        "        if scheduler is not None:\n",
        "\n",
        "            scheduler.step()\n",
        "\n",
        "\n",
        "\n",
        "    return train_loss_log, train_acc_log, val_loss_log, val_acc_log"
      ],
      "metadata": {
        "id": "g8gsPPRIevDS",
        "pycharm": {
          "name": "#%%\n"
        },
        "trusted": true,
        "execution": {
          "iopub.status.busy": "2024-11-15T17:11:33.507126Z",
          "iopub.execute_input": "2024-11-15T17:11:33.508009Z",
          "iopub.status.idle": "2024-11-15T17:11:33.520596Z",
          "shell.execute_reply.started": "2024-11-15T17:11:33.507968Z",
          "shell.execute_reply": "2024-11-15T17:11:33.519621Z"
        }
      },
      "outputs": [],
      "execution_count": null
    },
    {
      "cell_type": "code",
      "source": [
        "optimizer = optim.SGD(net.parameters(), lr=0.1, momentum=0.9)\n",
        "\n",
        "train_loss_log, train_acc_log, val_loss_log, val_acc_log = train(net, optimizer, 20, train_loader, val_loader)"
      ],
      "metadata": {
        "id": "MKZBGhuAgMDu",
        "scrolled": true,
        "pycharm": {
          "name": "#%%\n"
        },
        "trusted": true,
        "execution": {
          "iopub.status.busy": "2024-11-15T17:11:36.329486Z",
          "iopub.execute_input": "2024-11-15T17:11:36.329868Z",
          "iopub.status.idle": "2024-11-15T17:14:43.597014Z",
          "shell.execute_reply.started": "2024-11-15T17:11:36.329830Z",
          "shell.execute_reply": "2024-11-15T17:14:43.595821Z"
        },
        "outputId": "c9e1fb88-449a-4112-95c3-fb5e4a841016"
      },
      "outputs": [
        {
          "name": "stdout",
          "text": "Epoch 0\n train loss: 1.4920849611597915, train acc: 0.4689295508743858\n val loss: 1.2433924588751286, val acc: 0.5642287234042553\n\nEpoch 1\n train loss: 1.16844334735295, train acc: 0.5931909441730004\n val loss: 1.2220513878984653, val acc: 0.5735815603682335\n\nEpoch 2\n train loss: 1.072978331140452, train acc: 0.6252774876258055\n val loss: 1.0385814167083578, val acc: 0.639937943346957\n\nEpoch 3\n train loss: 1.0122600416814604, train acc: 0.6472520566727605\n val loss: 1.06756047543059, val acc: 0.633843085106383\n\nEpoch 4\n train loss: 0.9754986455715117, train acc: 0.661338632895698\n val loss: 1.0564981551880532, val acc: 0.6336436170212766\n\nEpoch 5\n train loss: 0.9478675812428351, train acc: 0.671662803650774\n val loss: 0.9567588298878771, val acc: 0.6701462765957447\n\nEpoch 6\n train loss: 0.9206068772938395, train acc: 0.6803506137684014\n val loss: 1.000053109767589, val acc: 0.6468528369639782\n\nEpoch 7\n train loss: 0.9034799827736082, train acc: 0.6865900040108718\n val loss: 0.9596494697509927, val acc: 0.6756205674181593\n\nEpoch 8\n train loss: 0.8878471630146996, train acc: 0.6903646514228319\n val loss: 0.9389344994058, val acc: 0.6754875888215734\n\nEpoch 9\n train loss: 0.8740424982917374, train acc: 0.6936822604435672\n val loss: 0.9571809281694128, val acc: 0.6675531914893617\n\nEpoch 10\n train loss: 0.8568837050981888, train acc: 0.7012642008512939\n val loss: 0.965194667146561, val acc: 0.6672650710065314\n\nEpoch 11\n train loss: 0.8427997587258899, train acc: 0.7068588404594436\n val loss: 0.9435149324701188, val acc: 0.6734042553191489\n\nEpoch 12\n train loss: 0.8337748698495205, train acc: 0.7083809414990859\n val loss: 0.9585005874329425, val acc: 0.6694592199427016\n\nEpoch 13\n train loss: 0.819865547760749, train acc: 0.7150610472863945\n val loss: 0.8966259671018478, val acc: 0.6948359930768926\n\nEpoch 14\n train loss: 0.8149490548226254, train acc: 0.7187581614776765\n val loss: 0.9108662615431116, val acc: 0.6912455675449777\n\nEpoch 15\n train loss: 0.8083406043880819, train acc: 0.7176808566672275\n val loss: 0.9071422830541083, val acc: 0.6853945037151905\n\nEpoch 16\n train loss: 0.798587343483564, train acc: 0.7213779707495429\n val loss: 0.9179239851363161, val acc: 0.6849734042553192\n\nEpoch 17\n train loss: 0.7956195379959817, train acc: 0.7226878754399594\n val loss: 0.8813927612406143, val acc: 0.6979166667512122\n\nEpoch 18\n train loss: 0.7748839947270737, train acc: 0.7307186929791676\n val loss: 0.8831915495243479, val acc: 0.6990691489361702\n\nEpoch 19\n train loss: 0.7725976845028195, train acc: 0.7320490010913591\n val loss: 0.9061024942296616, val acc: 0.6923537234042553\n\n",
          "output_type": "stream"
        }
      ],
      "execution_count": null
    },
    {
      "cell_type": "markdown",
      "source": [
        "Посчитайте точность на тестовой выборке:"
      ],
      "metadata": {
        "id": "gUb1jQW8O9Dt",
        "pycharm": {
          "name": "#%% md\n"
        }
      }
    },
    {
      "cell_type": "code",
      "source": [
        "loss, acc = test(net, test_loader)\n",
        "print(acc)"
      ],
      "metadata": {
        "id": "Jyuc55B9_Amc",
        "pycharm": {
          "name": "#%%\n"
        },
        "trusted": true,
        "execution": {
          "iopub.status.busy": "2024-11-15T17:15:56.119831Z",
          "iopub.execute_input": "2024-11-15T17:15:56.120289Z",
          "iopub.status.idle": "2024-11-15T17:15:57.905892Z",
          "shell.execute_reply.started": "2024-11-15T17:15:56.120245Z",
          "shell.execute_reply": "2024-11-15T17:15:57.904656Z"
        },
        "outputId": "b3c545ae-5599-4cf6-c671-a26c4dec27a2"
      },
      "outputs": [
        {
          "name": "stdout",
          "text": "0.6881966560509554\n",
          "output_type": "stream"
        }
      ],
      "execution_count": null
    },
    {
      "cell_type": "markdown",
      "source": [
        "Если вы все сделали правильно, у вас должна была получиться точность $\\ge 67\\%$."
      ],
      "metadata": {
        "id": "zM38Q9fwO9Dt",
        "pycharm": {
          "name": "#%% md\n"
        }
      }
    },
    {
      "cell_type": "markdown",
      "source": [
        "**Задание 2.2 (1 балл).** Постройте графики зависимости функции потерь и точности классификации от номера шага оптимизатора. На каждом графике расположите данные и для обучающей и для валидационной выборки, итого у вас должно получиться два графика. Обратите внимание, что на обучающей выборке эти данные считаются по каждому батчу, на валидационной же они считаются по всей выборке раз в эпоху."
      ],
      "metadata": {
        "id": "DHFNSKcoO9Dt",
        "pycharm": {
          "name": "#%% md\n"
        }
      }
    },
    {
      "cell_type": "code",
      "source": [
        "import seaborn as sns"
      ],
      "metadata": {
        "trusted": true,
        "execution": {
          "iopub.status.busy": "2024-11-15T16:09:53.657547Z",
          "iopub.execute_input": "2024-11-15T16:09:53.657928Z",
          "iopub.status.idle": "2024-11-15T16:09:53.662291Z",
          "shell.execute_reply.started": "2024-11-15T16:09:53.657889Z",
          "shell.execute_reply": "2024-11-15T16:09:53.661282Z"
        },
        "id": "YhtkppWCQvae"
      },
      "outputs": [],
      "execution_count": null
    },
    {
      "cell_type": "code",
      "source": [
        "sns.set_style(\"darkgrid\")"
      ],
      "metadata": {
        "trusted": true,
        "execution": {
          "iopub.status.busy": "2024-11-15T16:09:58.508318Z",
          "iopub.execute_input": "2024-11-15T16:09:58.509219Z",
          "iopub.status.idle": "2024-11-15T16:09:58.513764Z",
          "shell.execute_reply.started": "2024-11-15T16:09:58.509139Z",
          "shell.execute_reply": "2024-11-15T16:09:58.512871Z"
        },
        "id": "uzEbNfXMQvaf"
      },
      "outputs": [],
      "execution_count": null
    },
    {
      "cell_type": "code",
      "source": [
        "fig, axs = plt.subplots(nrows=1, ncols=2, figsize=(12, 6))\n",
        "\n",
        "sns.lineplot(ax=axs[0], x=np.arange(len(train_loss_log)), y=train_loss_log, label=\"Train Loss\", color=\"g\")\n",
        "sns.lineplot(ax=axs[0], x=(np.arange(len(val_loss_log)) + 1) * len(train_loader), y=val_loss_log, label=\"Val Loss\", color=\"r\")\n",
        "axs[0].set_title(\"Loss Logs\")\n",
        "axs[0].set_xlabel(\"Iterations\")\n",
        "axs[0].set_ylabel(\"Loss\")\n",
        "axs[0].legend()\n",
        "\n",
        "sns.lineplot(ax=axs[1], x=np.arange(len(train_acc_log)), y=train_acc_log, label=\"Train Accuracy\", color=\"g\")\n",
        "sns.lineplot(ax=axs[1], x=(np.arange(len(val_acc_log)) + 1) * len(train_loader), y=val_acc_log, label=\"Val Accuracy\", color=\"r\")\n",
        "axs[1].set_title(\"Accuracy Logs\")\n",
        "axs[1].set_xlabel(\"Iterations\")\n",
        "axs[1].set_ylabel(\"Accuracy\")\n",
        "axs[1].legend()\n",
        "\n",
        "plt.tight_layout()\n",
        "plt.show()\n"
      ],
      "metadata": {
        "id": "LzIP0tGLO9Dt",
        "pycharm": {
          "name": "#%%\n"
        },
        "trusted": true,
        "execution": {
          "iopub.status.busy": "2024-11-15T17:17:12.044887Z",
          "iopub.execute_input": "2024-11-15T17:17:12.045575Z",
          "iopub.status.idle": "2024-11-15T17:17:13.406095Z",
          "shell.execute_reply.started": "2024-11-15T17:17:12.045537Z",
          "shell.execute_reply": "2024-11-15T17:17:13.405168Z"
        },
        "outputId": "a9826479-a243-4ac2-e1b5-9d20d77b9f98"
      },
      "outputs": [
        {
          "name": "stderr",
          "text": "/opt/conda/lib/python3.10/site-packages/seaborn/_oldcore.py:1119: FutureWarning: use_inf_as_na option is deprecated and will be removed in a future version. Convert inf values to NaN before operating instead.\n  with pd.option_context('mode.use_inf_as_na', True):\n/opt/conda/lib/python3.10/site-packages/seaborn/_oldcore.py:1119: FutureWarning: use_inf_as_na option is deprecated and will be removed in a future version. Convert inf values to NaN before operating instead.\n  with pd.option_context('mode.use_inf_as_na', True):\n/opt/conda/lib/python3.10/site-packages/seaborn/_oldcore.py:1119: FutureWarning: use_inf_as_na option is deprecated and will be removed in a future version. Convert inf values to NaN before operating instead.\n  with pd.option_context('mode.use_inf_as_na', True):\n/opt/conda/lib/python3.10/site-packages/seaborn/_oldcore.py:1119: FutureWarning: use_inf_as_na option is deprecated and will be removed in a future version. Convert inf values to NaN before operating instead.\n  with pd.option_context('mode.use_inf_as_na', True):\n/opt/conda/lib/python3.10/site-packages/seaborn/_oldcore.py:1119: FutureWarning: use_inf_as_na option is deprecated and will be removed in a future version. Convert inf values to NaN before operating instead.\n  with pd.option_context('mode.use_inf_as_na', True):\n/opt/conda/lib/python3.10/site-packages/seaborn/_oldcore.py:1119: FutureWarning: use_inf_as_na option is deprecated and will be removed in a future version. Convert inf values to NaN before operating instead.\n  with pd.option_context('mode.use_inf_as_na', True):\n/opt/conda/lib/python3.10/site-packages/seaborn/_oldcore.py:1119: FutureWarning: use_inf_as_na option is deprecated and will be removed in a future version. Convert inf values to NaN before operating instead.\n  with pd.option_context('mode.use_inf_as_na', True):\n/opt/conda/lib/python3.10/site-packages/seaborn/_oldcore.py:1119: FutureWarning: use_inf_as_na option is deprecated and will be removed in a future version. Convert inf values to NaN before operating instead.\n  with pd.option_context('mode.use_inf_as_na', True):\n",
          "output_type": "stream"
        },
        {
          "output_type": "display_data",
          "data": {
            "text/plain": "<Figure size 1200x600 with 2 Axes>",
            "image/png": "[encoded data removed]"
          },
          "metadata": {}
        }
      ],
      "execution_count": null
    },
    {
      "cell_type": "markdown",
      "source": [
        "## 3. Расписание длины шага (2 балла)"
      ],
      "metadata": {
        "id": "_ttOJPj-O9Dt",
        "pycharm": {
          "name": "#%% md\n"
        }
      }
    },
    {
      "cell_type": "markdown",
      "source": [
        "С курса \"Машинное обучение 1\" вы уже должны знать, что сходимость стохастического градиентного спуска мы можем теоретически гарантировать только если будем определенным образом со временем уменьшать длину шага. На практике при обучении нейронных сетей такая техника оказывается очень полезной, однако теоретически обоснованными способами уменьшения длины шага фантазия не ограничивается.\n",
        "\n",
        "\n",
        "\n",
        "Одним из простейших способов является кусочно постоянная функция: на нескольких фиксированных эпохах уменьшаем длину шага в константу раз."
      ],
      "metadata": {
        "id": "qiz3JstuO9Dt",
        "pycharm": {
          "name": "#%% md\n"
        }
      }
    },
    {
      "cell_type": "code",
      "source": [
        "net = BasicBlockNet().to(device)\n",
        "\n",
        "optimizer = optim.SGD(net.parameters(), lr=0.1, momentum=0.9)\n",
        "\n",
        "scheduler = optim.lr_scheduler.MultiStepLR(optimizer, milestones=[10, 15], gamma=0.1)\n",
        "\n",
        "tr_loss_log, tr_acc_log, val_loss_log, val_acc_log = train(net, optimizer, 20, train_loader, val_loader, scheduler)"
      ],
      "metadata": {
        "id": "V2Z0OT3nO9Du",
        "pycharm": {
          "name": "#%%\n"
        },
        "trusted": true,
        "execution": {
          "iopub.status.busy": "2024-11-15T17:17:27.302903Z",
          "iopub.execute_input": "2024-11-15T17:17:27.303667Z",
          "iopub.status.idle": "2024-11-15T17:20:39.832061Z",
          "shell.execute_reply.started": "2024-11-15T17:17:27.303624Z",
          "shell.execute_reply": "2024-11-15T17:20:39.830873Z"
        },
        "outputId": "34864d38-7698-40ef-b8c4-77000df195ee"
      },
      "outputs": [
        {
          "name": "stdout",
          "text": "Epoch 0\n train loss: 1.524658405693619, train acc: 0.4590542570328582\n val loss: 1.266477646726243, val acc: 0.557734929120287\n\nEpoch 1\n train loss: 1.217823148863407, train acc: 0.5710205015142396\n val loss: 1.2426067740359206, val acc: 0.5780141844394359\n\nEpoch 2\n train loss: 1.105219375280837, train acc: 0.6152389658652451\n val loss: 1.0947952757490442, val acc: 0.6228280143534883\n\nEpoch 3\n train loss: 1.0360928234496107, train acc: 0.6413187190645138\n val loss: 1.0486202881691304, val acc: 0.6323581561129143\n\nEpoch 4\n train loss: 1.0039950145010104, train acc: 0.6506349569700753\n val loss: 1.012625432268102, val acc: 0.6471631207364671\n\nEpoch 5\n train loss: 0.9670641914800054, train acc: 0.6646113541705952\n val loss: 1.0130658651920075, val acc: 0.6436613476022761\n\nEpoch 6\n train loss: 0.9437307157507763, train acc: 0.6724095717208695\n val loss: 0.9693068116269213, val acc: 0.6642952127659575\n\nEpoch 7\n train loss: 0.9330672343862558, train acc: 0.6753762405794761\n val loss: 0.9524799788251836, val acc: 0.6717420212765958\n\nEpoch 8\n train loss: 0.9063229399581714, train acc: 0.6854800536166161\n val loss: 0.991236798306729, val acc: 0.655629432708659\n\nEpoch 9\n train loss: 0.8984656400392871, train acc: 0.6868022003600976\n val loss: 0.9684836501770832, val acc: 0.6707446808510639\n\nEpoch 10\n train loss: 0.7989647550818253, train acc: 0.7236427592838922\n val loss: 0.8644812873069276, val acc: 0.7032358156873825\n\nEpoch 11\n train loss: 0.7792250018233137, train acc: 0.7299066336324925\n val loss: 0.8586040581794495, val acc: 0.7039893617021277\n\nEpoch 12\n train loss: 0.7748666999000082, train acc: 0.7317674327811986\n val loss: 0.854323263878518, val acc: 0.7035239361702128\n\nEpoch 13\n train loss: 0.7691096246133556, train acc: 0.7347585858549017\n val loss: 0.8540926959920436, val acc: 0.704565602921425\n\nEpoch 14\n train loss: 0.7654701401590212, train acc: 0.7346524876258055\n val loss: 0.8535416557433757, val acc: 0.7058732271194458\n\nEpoch 15\n train loss: 0.7507348177746838, train acc: 0.7384067316159906\n val loss: 0.8476532484622712, val acc: 0.7086436170212767\n\nEpoch 16\n train loss: 0.7495261243318073, train acc: 0.7400716571528907\n val loss: 0.8462996263453301, val acc: 0.7063164893617021\n\nEpoch 17\n train loss: 0.7481198923243465, train acc: 0.7409163620833723\n val loss: 0.8465323019534984, val acc: 0.7072695037151905\n\nEpoch 18\n train loss: 0.7483955446828218, train acc: 0.7422344281424987\n val loss: 0.8470676636442225, val acc: 0.7072695037151905\n\nEpoch 19\n train loss: 0.7474512114603297, train acc: 0.7410755093180501\n val loss: 0.8454758911690814, val acc: 0.7076462765957446\n\n",
          "output_type": "stream"
        }
      ],
      "execution_count": null
    },
    {
      "cell_type": "markdown",
      "source": [
        "Посчитайте точность на тестовой выборке:"
      ],
      "metadata": {
        "id": "5Xc76KvzO9Du",
        "pycharm": {
          "name": "#%% md\n"
        }
      }
    },
    {
      "cell_type": "code",
      "source": [
        "loss, acc = test(net, test_loader)\n",
        "print(acc)"
      ],
      "metadata": {
        "id": "1AjiYhKqO9Du",
        "pycharm": {
          "name": "#%%\n"
        },
        "trusted": true,
        "execution": {
          "iopub.status.busy": "2024-11-15T16:28:28.729760Z",
          "iopub.execute_input": "2024-11-15T16:28:28.730170Z",
          "iopub.status.idle": "2024-11-15T16:28:30.559911Z",
          "shell.execute_reply.started": "2024-11-15T16:28:28.730128Z",
          "shell.execute_reply": "2024-11-15T16:28:30.558725Z"
        },
        "outputId": "b36eb12d-dbe0-4c09-c74c-e001c119cf0f"
      },
      "outputs": [
        {
          "name": "stdout",
          "text": "0.7085987261146497\n",
          "output_type": "stream"
        }
      ],
      "execution_count": null
    },
    {
      "cell_type": "markdown",
      "source": [
        "**Задание 3.0 (0.5 баллов).** Здесь может возникнуть вопрос: а что будет, если мы не будем уменьшать длину шага в процессе обучения, а сразу возьмем констатную, равную значению нашей кусочно-постоянной функции на последних эпохах, то есть $0.001$ в нашем случае. Запустите обучение и проверьте, что в таком случае мы получим худшее качество на тестовой выборке."
      ],
      "metadata": {
        "id": "yE0dgLYrO9Du",
        "pycharm": {
          "name": "#%% md\n"
        }
      }
    },
    {
      "cell_type": "code",
      "source": [
        "net = BasicBlockNet().to(device)\n",
        "\n",
        "optimizer = optim.SGD(net.parameters(), lr=0.001, momentum=0.9)\n",
        "\n",
        "scheduler = optim.lr_scheduler.MultiStepLR(optimizer, milestones=[10, 15], gamma=0.1)\n",
        "\n",
        "tr_loss_log, tr_acc_log, val_loss_log, val_acc_log = train(net, optimizer, 20, train_loader, val_loader, scheduler)"
      ],
      "metadata": {
        "id": "qZ2iB-LBO9Du",
        "pycharm": {
          "name": "#%%\n"
        },
        "trusted": true,
        "execution": {
          "iopub.status.busy": "2024-11-15T16:28:38.982212Z",
          "iopub.execute_input": "2024-11-15T16:28:38.982723Z",
          "iopub.status.idle": "2024-11-15T16:31:46.670744Z",
          "shell.execute_reply.started": "2024-11-15T16:28:38.982673Z",
          "shell.execute_reply": "2024-11-15T16:31:46.669519Z"
        },
        "outputId": "91692085-2e3d-4ab8-956c-3ce547163c45"
      },
      "outputs": [
        {
          "name": "stdout",
          "text": "Epoch 0\n train loss: 1.8401933847441316, train acc: 0.35683680468764994\n val loss: 1.6364481936109827, val acc: 0.4247783688788718\n\nEpoch 1\n train loss: 1.5433628042611605, train acc: 0.45766273832844206\n val loss: 1.4624213731035274, val acc: 0.4823581561129144\n\nEpoch 2\n train loss: 1.4260809131688565, train acc: 0.4994368634886454\n val loss: 1.3769003482575113, val acc: 0.5081117021276595\n\nEpoch 3\n train loss: 1.3620566853221636, train acc: 0.5205218399682472\n val loss: 1.3197852768796556, val acc: 0.534375\n\nEpoch 4\n train loss: 1.3107782186058365, train acc: 0.5413660551991716\n val loss: 1.282266575478493, val acc: 0.5498670212765957\n\nEpoch 5\n train loss: 1.2631042765307035, train acc: 0.5588559350322326\n val loss: 1.2263764650263684, val acc: 0.5721409574468085\n\nEpoch 6\n train loss: 1.2219169638928373, train acc: 0.5735097284508798\n val loss: 1.2090869398827249, val acc: 0.5813608156873825\n\nEpoch 7\n train loss: 1.186349580013338, train acc: 0.5858375228519196\n val loss: 1.1612413997345783, val acc: 0.5951462765957447\n\nEpoch 8\n train loss: 1.1552420262880692, train acc: 0.5961290481321555\n val loss: 1.1412207047990028, val acc: 0.6026374114320633\n\nEpoch 9\n train loss: 1.123317938400143, train acc: 0.6081303865861631\n val loss: 1.1112300291974493, val acc: 0.6133865248649678\n\nEpoch 10\n train loss: 1.0821175720181717, train acc: 0.6245756073015482\n val loss: 1.0874861549823842, val acc: 0.622938829787234\n\nEpoch 11\n train loss: 1.0763241412216829, train acc: 0.6269873009085437\n val loss: 1.0834666028935858, val acc: 0.6218528369639782\n\nEpoch 12\n train loss: 1.0734889554149272, train acc: 0.6286318230236688\n val loss: 1.0803298579885605, val acc: 0.6258865248649679\n\nEpoch 13\n train loss: 1.0703273392682537, train acc: 0.6292480086495715\n val loss: 1.0741464353622274, val acc: 0.6273936170212766\n\nEpoch 14\n train loss: 1.0663498829662037, train acc: 0.6309129342954382\n val loss: 1.0720410377421277, val acc: 0.6273714539852548\n\nEpoch 15\n train loss: 1.0617747018062655, train acc: 0.6336061962125942\n val loss: 1.0690693436784948, val acc: 0.627548758907521\n\nEpoch 16\n train loss: 1.0600686405650876, train acc: 0.6351242165678815\n val loss: 1.0684840580250354, val acc: 0.6288563829787234\n\nEpoch 17\n train loss: 1.0604882839610852, train acc: 0.6332266911510139\n val loss: 1.0679857345337564, val acc: 0.6294769503968827\n\nEpoch 18\n train loss: 1.059565874623642, train acc: 0.6342223818384969\n val loss: 1.0686709185864063, val acc: 0.6294104610351806\n\nEpoch 19\n train loss: 1.059287144344511, train acc: 0.6349405850091407\n val loss: 1.0672419055979303, val acc: 0.6283687944107867\n\n",
          "output_type": "stream"
        }
      ],
      "execution_count": null
    },
    {
      "cell_type": "code",
      "source": [
        "loss, acc = test(net, test_loader)\n",
        "print(acc)"
      ],
      "metadata": {
        "trusted": true,
        "execution": {
          "iopub.status.busy": "2024-11-15T16:41:27.217948Z",
          "iopub.execute_input": "2024-11-15T16:41:27.218377Z",
          "iopub.status.idle": "2024-11-15T16:41:29.008815Z",
          "shell.execute_reply.started": "2024-11-15T16:41:27.218332Z",
          "shell.execute_reply": "2024-11-15T16:41:29.007698Z"
        },
        "id": "EhBU6zwFQvag",
        "outputId": "fca4e71a-ee3c-4dc9-ed37-a50d479d5e26"
      },
      "outputs": [
        {
          "name": "stdout",
          "text": "0.6267914012738853\n",
          "output_type": "stream"
        }
      ],
      "execution_count": null
    },
    {
      "cell_type": "markdown",
      "source": [
        "**Задание 3.1 (1.5 балла).** Изучите, какие еще способы уменьшения длины шага представлены в <code>torch.optim.lr_scheduler</code>. Выберите несколько из них, объясните, как они устроены, и обучите модель с ними. Удалось ли добиться улучшения качества на тестовой выборке?"
      ],
      "metadata": {
        "id": "xVotU378O9Du",
        "pycharm": {
          "name": "#%% md\n"
        }
      }
    },
    {
      "cell_type": "code",
      "source": [
        "net = BasicBlockNet().to(device)\n",
        "\n",
        "optimizer = optim.SGD(net.parameters(), lr=0.1, momentum=0.9)\n",
        "\n",
        "scheduler = optim.lr_scheduler.CyclicLR(optimizer, base_lr=0.01, max_lr=1)\n",
        "\n",
        "tr_loss_log, tr_acc_log, val_loss_log, val_acc_log = train(net, optimizer, 20, train_loader, val_loader, scheduler)"
      ],
      "metadata": {
        "id": "nkGlzocOO9Du",
        "pycharm": {
          "name": "#%%\n"
        },
        "trusted": true,
        "execution": {
          "iopub.status.busy": "2024-11-15T17:36:18.043922Z",
          "iopub.execute_input": "2024-11-15T17:36:18.044355Z",
          "iopub.status.idle": "2024-11-15T17:39:25.066883Z",
          "shell.execute_reply.started": "2024-11-15T17:36:18.044311Z",
          "shell.execute_reply": "2024-11-15T17:39:25.065731Z"
        },
        "outputId": "d4047b62-b1ec-4c8e-d86b-841d5d0528be"
      },
      "outputs": [
        {
          "name": "stdout",
          "text": "Epoch 0\n train loss: 1.535175300385442, train acc: 0.4497625033423931\n val loss: 1.3282075775430557, val acc: 0.5271941489361702\n\nEpoch 1\n train loss: 1.2404364916262722, train acc: 0.5595088470352633\n val loss: 1.2058851767093577, val acc: 0.5651374114320633\n\nEpoch 2\n train loss: 1.1012648394164481, train acc: 0.6129088861632827\n val loss: 1.1117512038413515, val acc: 0.6140735816448293\n\nEpoch 3\n train loss: 1.0135499952698102, train acc: 0.6475662705667276\n val loss: 1.0112743283839936, val acc: 0.6464095744680851\n\nEpoch 4\n train loss: 0.9678599380052068, train acc: 0.6621466114490516\n val loss: 0.9753713016814374, val acc: 0.6612145390916377\n\nEpoch 5\n train loss: 0.9342839693892373, train acc: 0.6760740402193784\n val loss: 0.9326765372398051, val acc: 0.6775487590343394\n\nEpoch 6\n train loss: 0.9082416873527401, train acc: 0.6850964677617144\n val loss: 0.9487929983341947, val acc: 0.6737810284533399\n\nEpoch 7\n train loss: 0.8832505819348574, train acc: 0.692286661054796\n val loss: 0.92072611134103, val acc: 0.6875221632896585\n\nEpoch 8\n train loss: 0.8663044844292636, train acc: 0.7000236681218122\n val loss: 0.9197445694436418, val acc: 0.6811835106382979\n\nEpoch 9\n train loss: 0.8522114544507572, train acc: 0.7050388483722205\n val loss: 0.8983383414593149, val acc: 0.6903368795171697\n\nEpoch 10\n train loss: 0.8369317143011354, train acc: 0.7112700771370143\n val loss: 0.9041222409999117, val acc: 0.6842420212765957\n\nEpoch 11\n train loss: 0.8256179411951758, train acc: 0.7144122160766853\n val loss: 0.8709661828710678, val acc: 0.6942375888215735\n\nEpoch 12\n train loss: 0.8153256189343698, train acc: 0.7183215266171932\n val loss: 0.869105681967228, val acc: 0.7031693263256803\n\nEpoch 13\n train loss: 0.8014644422522411, train acc: 0.7232836576440871\n val loss: 0.8490837221449994, val acc: 0.7063386526513606\n\nEpoch 14\n train loss: 0.7914829447020996, train acc: 0.7258177723265653\n val loss: 0.8872672778494815, val acc: 0.6925753547790202\n\nEpoch 15\n train loss: 0.7811265864581469, train acc: 0.7294699987720092\n val loss: 0.8855219024292966, val acc: 0.6965868795171697\n\nEpoch 16\n train loss: 0.7756669547483733, train acc: 0.7322897623400365\n val loss: 0.8676050518421417, val acc: 0.7058067377577437\n\nEpoch 17\n train loss: 0.7665867853426193, train acc: 0.7357624380200611\n val loss: 0.8623778995047224, val acc: 0.7041888297872341\n\nEpoch 18\n train loss: 0.7586052202001569, train acc: 0.7373620723893481\n val loss: 0.8467413197172449, val acc: 0.7080895390916377\n\nEpoch 19\n train loss: 0.7546682209593722, train acc: 0.7400430922534391\n val loss: 0.8516283410660764, val acc: 0.7116799646235527\n\n",
          "output_type": "stream"
        }
      ],
      "execution_count": null
    },
    {
      "cell_type": "code",
      "source": [
        "loss, acc = test(net, test_loader)\n",
        "print(acc)"
      ],
      "metadata": {
        "trusted": true,
        "execution": {
          "iopub.status.busy": "2024-11-15T17:40:00.357583Z",
          "iopub.execute_input": "2024-11-15T17:40:00.358003Z",
          "iopub.status.idle": "2024-11-15T17:40:02.123831Z",
          "shell.execute_reply.started": "2024-11-15T17:40:00.357961Z",
          "shell.execute_reply": "2024-11-15T17:40:02.122726Z"
        },
        "id": "uUGH0sxDQvah",
        "outputId": "bb856910-def6-4897-c57d-7cc143cca239"
      },
      "outputs": [
        {
          "name": "stdout",
          "text": "0.7038216560509554\n",
          "output_type": "stream"
        }
      ],
      "execution_count": null
    },
    {
      "cell_type": "code",
      "source": [
        "net = BasicBlockNet().to(device)\n",
        "\n",
        "optimizer = optim.SGD(net.parameters(), lr=0.1, momentum=0.9)\n",
        "\n",
        "scheduler = optim.lr_scheduler.PolynomialLR(optimizer, total_iters=8, power=3.0)\n",
        "\n",
        "tr_loss_log, tr_acc_log, val_loss_log, val_acc_log = train(net, optimizer, 20, train_loader, val_loader, scheduler)"
      ],
      "metadata": {
        "trusted": true,
        "execution": {
          "iopub.status.busy": "2024-11-15T17:40:37.544177Z",
          "iopub.execute_input": "2024-11-15T17:40:37.545219Z",
          "iopub.status.idle": "2024-11-15T17:43:44.219690Z",
          "shell.execute_reply.started": "2024-11-15T17:40:37.545165Z",
          "shell.execute_reply": "2024-11-15T17:43:44.218484Z"
        },
        "id": "RsqLN1rXQvah",
        "outputId": "b9482ede-df8d-4d1b-8852-ecdbd4d157dd"
      },
      "outputs": [
        {
          "name": "stdout",
          "text": "Epoch 0\n train loss: 1.540685699016564, train acc: 0.4523823126142596\n val loss: 1.3405718493968883, val acc: 0.5201684397585848\n\nEpoch 1\n train loss: 1.2153541366186613, train acc: 0.56964530565621\n val loss: 1.2070189351731158, val acc: 0.5762189718002969\n\nEpoch 2\n train loss: 1.061850361131009, train acc: 0.6285379668476376\n val loss: 1.0934397892749055, val acc: 0.6220523050490846\n\nEpoch 3\n train loss: 0.9776521662907365, train acc: 0.6594737529536706\n val loss: 1.002514868086957, val acc: 0.6484485816448293\n\nEpoch 4\n train loss: 0.9288111937111431, train acc: 0.6759965069987003\n val loss: 0.9536738525045679, val acc: 0.670035461161999\n\nEpoch 5\n train loss: 0.8951621075216987, train acc: 0.6902952794618973\n val loss: 0.931164991094711, val acc: 0.6787012412192973\n\nEpoch 6\n train loss: 0.8793891559353259, train acc: 0.696526508226691\n val loss: 0.9195782466137663, val acc: 0.6825576241980208\n\nEpoch 7\n train loss: 0.8727941037967828, train acc: 0.6983342583698154\n val loss: 0.9163687520838798, val acc: 0.6840203901554676\n\nEpoch 8\n train loss: 0.8723920996707798, train acc: 0.6990198159566527\n val loss: 0.9170525431632995, val acc: 0.6818927305809995\n\nEpoch 9\n train loss: 0.8720455606633174, train acc: 0.6988565879286535\n val loss: 0.9167586098326014, val acc: 0.6832890071767441\n\nEpoch 10\n train loss: 0.8700584527343457, train acc: 0.699448289448426\n val loss: 0.9170781371441293, val acc: 0.6828235816448293\n\nEpoch 11\n train loss: 0.8715780562630955, train acc: 0.7001868961498114\n val loss: 0.9162245925436628, val acc: 0.6839539007937655\n\nEpoch 12\n train loss: 0.8705632631042104, train acc: 0.7002685101638111\n val loss: 0.916525850651112, val acc: 0.6833554965384463\n\nEpoch 13\n train loss: 0.8719200788838772, train acc: 0.6995788717836523\n val loss: 0.9167498002661035, val acc: 0.6835549646235527\n\nEpoch 14\n train loss: 0.871192510537735, train acc: 0.7002562680017795\n val loss: 0.9169323654884988, val acc: 0.6834884752618505\n\nEpoch 15\n train loss: 0.8719269236110464, train acc: 0.7002644293704896\n val loss: 0.9162647549142229, val acc: 0.6840868795171697\n\nEpoch 16\n train loss: 0.871433063442572, train acc: 0.700729629239391\n val loss: 0.916135265979361, val acc: 0.6832225178150421\n\nEpoch 17\n train loss: 0.8703268458028163, train acc: 0.6995911139456837\n val loss: 0.9171073094327399, val acc: 0.681626773134191\n\nEpoch 18\n train loss: 0.8709807652006202, train acc: 0.6984893249201383\n val loss: 0.9174221008381945, val acc: 0.682690602921425\n\nEpoch 19\n train loss: 0.871576365539753, train acc: 0.6987831352833638\n val loss: 0.9164587944111926, val acc: 0.6827570922831272\n\n",
          "output_type": "stream"
        }
      ],
      "execution_count": null
    },
    {
      "cell_type": "code",
      "source": [
        "loss, acc = test(net, test_loader)\n",
        "print(acc)"
      ],
      "metadata": {
        "trusted": true,
        "execution": {
          "iopub.status.busy": "2024-11-15T17:31:05.488866Z",
          "iopub.execute_input": "2024-11-15T17:31:05.489296Z",
          "iopub.status.idle": "2024-11-15T17:31:07.316703Z",
          "shell.execute_reply.started": "2024-11-15T17:31:05.489252Z",
          "shell.execute_reply": "2024-11-15T17:31:07.315049Z"
        },
        "id": "W6PU6a2ZQvah",
        "outputId": "e7996d41-3881-4e52-b725-6414ebe708be"
      },
      "outputs": [
        {
          "name": "stdout",
          "text": "0.6538614649681529\n",
          "output_type": "stream"
        }
      ],
      "execution_count": null
    },
    {
      "cell_type": "code",
      "source": [
        "net = BasicBlockNet().to(device)\n",
        "\n",
        "optimizer = optim.SGD(net.parameters(), lr=0.1, momentum=0.9)\n",
        "\n",
        "scheduler = optim.lr_scheduler.ExponentialLR(optimizer, gamma = 0.9)\n",
        "\n",
        "tr_loss_log, tr_acc_log, val_loss_log, val_acc_log = train(net, optimizer, 20, train_loader, val_loader, scheduler)"
      ],
      "metadata": {
        "trusted": true,
        "execution": {
          "iopub.status.busy": "2024-11-15T17:32:31.696728Z",
          "iopub.execute_input": "2024-11-15T17:32:31.697181Z",
          "iopub.status.idle": "2024-11-15T17:35:42.526840Z",
          "shell.execute_reply.started": "2024-11-15T17:32:31.697131Z",
          "shell.execute_reply": "2024-11-15T17:35:42.525552Z"
        },
        "id": "oYJPfDR1Qvah",
        "outputId": "7985b79b-2246-43a7-875a-81666cbcaa70"
      },
      "outputs": [
        {
          "name": "stdout",
          "text": "Epoch 0\n train loss: 1.4740529237979072, train acc: 0.47480575868372943\n val loss: 1.265335273489039, val acc: 0.5597739361702128\n\nEpoch 1\n train loss: 1.146548030036459, train acc: 0.5995935623345036\n val loss: 1.081364678068364, val acc: 0.6247340425531915\n\nEpoch 2\n train loss: 1.0360006307553111, train acc: 0.6376746539877799\n val loss: 1.012052945634152, val acc: 0.6446808510638298\n\nEpoch 3\n train loss: 0.9683894251338743, train acc: 0.6625669235721149\n val loss: 0.9835960413547272, val acc: 0.6539228723404256\n\nEpoch 4\n train loss: 0.9236281611147921, train acc: 0.6805301645338209\n val loss: 0.9577774103651655, val acc: 0.6657801420130628\n\nEpoch 5\n train loss: 0.8887756436354936, train acc: 0.6919561243144424\n val loss: 0.9614685999586227, val acc: 0.6671764186088075\n\nEpoch 6\n train loss: 0.8612104713154013, train acc: 0.7032106948073211\n val loss: 0.934815184106218, val acc: 0.6753546100981692\n\nEpoch 7\n train loss: 0.8381166537130554, train acc: 0.7100989162595006\n val loss: 0.8962715047471067, val acc: 0.6875886526513607\n\nEpoch 8\n train loss: 0.8130638289931051, train acc: 0.7173054322900022\n val loss: 0.8628107088677427, val acc: 0.7042553191489361\n\nEpoch 9\n train loss: 0.8035452989708135, train acc: 0.723275496275377\n val loss: 0.8911891209318282, val acc: 0.6906471632896586\n\nEpoch 10\n train loss: 0.7823347903692744, train acc: 0.729674033752525\n val loss: 0.8800611843454077, val acc: 0.6986480497299357\n\nEpoch 11\n train loss: 0.7699839452611899, train acc: 0.7344484526452896\n val loss: 0.8463534452813737, val acc: 0.707158688027808\n\nEpoch 12\n train loss: 0.7580435422591361, train acc: 0.7391330961553445\n val loss: 0.8505411868399763, val acc: 0.7079787234042553\n\nEpoch 13\n train loss: 0.745682253589142, train acc: 0.7393248890827953\n val loss: 0.8723087450291248, val acc: 0.7003546100981692\n\nEpoch 14\n train loss: 0.7374152322138031, train acc: 0.7429934382656592\n val loss: 0.8457182729497869, val acc: 0.7083111702127659\n\nEpoch 15\n train loss: 0.7243430690747946, train acc: 0.7488370006001628\n val loss: 0.8440658051916894, val acc: 0.7124778369639783\n\nEpoch 16\n train loss: 0.7168859893922614, train acc: 0.7509344803131912\n val loss: 0.8273953867719529, val acc: 0.7166445037151905\n\nEpoch 17\n train loss: 0.7098219352186925, train acc: 0.7547091277251514\n val loss: 0.8120817652408113, val acc: 0.721875\n\nEpoch 18\n train loss: 0.6998793342213744, train acc: 0.7578431052961123\n val loss: 0.8310692381351552, val acc: 0.7138741135597229\n\nEpoch 19\n train loss: 0.6964908104383095, train acc: 0.7593896905508513\n val loss: 0.8090788685260935, val acc: 0.7233820922831271\n\n",
          "output_type": "stream"
        }
      ],
      "execution_count": null
    },
    {
      "cell_type": "code",
      "source": [
        "loss, acc = test(net, test_loader)\n",
        "print(acc)"
      ],
      "metadata": {
        "trusted": true,
        "execution": {
          "iopub.status.busy": "2024-11-15T17:35:59.006154Z",
          "iopub.execute_input": "2024-11-15T17:35:59.006623Z",
          "iopub.status.idle": "2024-11-15T17:36:00.809394Z",
          "shell.execute_reply.started": "2024-11-15T17:35:59.006578Z",
          "shell.execute_reply": "2024-11-15T17:36:00.808274Z"
        },
        "id": "el-f-XvpQvai",
        "outputId": "279dba3f-a1bf-4f16-978f-7816bd896abf"
      },
      "outputs": [
        {
          "name": "stdout",
          "text": "0.7190485668789809\n",
          "output_type": "stream"
        }
      ],
      "execution_count": null
    },
    {
      "cell_type": "markdown",
      "source": [
        "Your answers here:\n",
        "- CyclicLR Scheduler - использует циклический LR в рамках заданного диапазона, меняется каждый батч\n",
        "- PolynomialLR - собственно полиномиально меняет LR в соотв-ии с заданной степенью и количеством итераций до 0\n",
        "- ExponentialLR - lr_k+1 = gamma * lr_k"
      ],
      "metadata": {
        "id": "5a_zMNNVO9Du",
        "pycharm": {
          "name": "#%% md\n"
        }
      }
    },
    {
      "cell_type": "markdown",
      "source": [
        "Получилось добиться улучшения, используя ExponentialLR. CyclicLR сравнимо с предыдущим результатом, но так-то и параметры в планировщиках не подбирала."
      ],
      "metadata": {
        "id": "UOuwv4EFQvai"
      }
    },
    {
      "cell_type": "markdown",
      "source": [
        "## 4. Аугментации данных (2 балла)"
      ],
      "metadata": {
        "id": "7xFXgl_3_E--",
        "pycharm": {
          "name": "#%% md\n"
        }
      }
    },
    {
      "cell_type": "markdown",
      "source": [
        "Еще одной стандартной техникой, применяющейся в глубинном обучении, а особенно часто в компьютерном зрении, являются аугментации данных. Суть аугментаций состоит в том, что мы можем некоторым синтетическим образом видоизменять объекты обучающей выборки, тем самым расширяя ее, а также делая итоговую модель более устойчивой к таким изменениям.\n",
        "\n",
        "\n",
        "\n",
        "Простейшая аугментация, которую можно применить к картинкам — разворот картинки по горизонтальной оси. То есть при обучении модели с вероятностью $0.5$ мы будем разворачивать картинку из обучающей выборки."
      ],
      "metadata": {
        "id": "5G0Easo9O9Du",
        "pycharm": {
          "name": "#%% md\n"
        }
      }
    },
    {
      "cell_type": "code",
      "source": [
        "dataiter = iter(train_loader)\n",
        "\n",
        "images, labels = next(dataiter)\n",
        "\n",
        "\n",
        "imshow(torchvision.utils.make_grid(images[:4]))\n",
        "\n",
        "\n",
        "\n",
        "imshow(torchvision.utils.make_grid(transforms.functional.hflip(images[:4])))"
      ],
      "metadata": {
        "id": "SzeFpgtfO9Du",
        "pycharm": {
          "name": "#%%\n"
        },
        "trusted": true,
        "execution": {
          "iopub.status.busy": "2024-11-15T17:44:03.428267Z",
          "iopub.execute_input": "2024-11-15T17:44:03.429484Z",
          "iopub.status.idle": "2024-11-15T17:44:04.256330Z",
          "shell.execute_reply.started": "2024-11-15T17:44:03.429400Z",
          "shell.execute_reply": "2024-11-15T17:44:04.255017Z"
        },
        "outputId": "dd338170-a3cf-4a4d-b01b-960a956f3e10"
      },
      "outputs": [
        {
          "output_type": "display_data",
          "data": {
            "text/plain": "<Figure size 640x480 with 1 Axes>",
            "image/png": "[encoded data removed]"
          },
          "metadata": {}
        },
        {
          "output_type": "display_data",
          "data": {
            "text/plain": "<Figure size 640x480 with 1 Axes>",
            "image/png": "[encoded data removed]"
          },
          "metadata": {}
        }
      ],
      "execution_count": null
    },
    {
      "cell_type": "markdown",
      "source": [
        "Наиболее удобным способом работы с аугментациями в PyTorch является их задание в списке <code>transforms</code>, который затем передается в загрузчик данных. Обучим нашу сеть, применяя горизонтальные повороты:"
      ],
      "metadata": {
        "id": "BR4a-XJQO9Du",
        "pycharm": {
          "name": "#%% md\n"
        }
      }
    },
    {
      "cell_type": "code",
      "source": [
        "transform = transforms.Compose(\n",
        "\n",
        "        [transforms.RandomHorizontalFlip(),\n",
        "\n",
        "         transforms.ToTensor(),\n",
        "\n",
        "         transforms.Normalize((0.5, 0.5, 0.5), (0.5, 0.5, 0.5))]\n",
        "\n",
        ")\n",
        "\n",
        "\n",
        "\n",
        "train_loader, val_loader, test_loader = get_cifar10_data(batch_size=64, transform_train=transform)\n",
        "\n",
        "\n",
        "\n",
        "net = BasicBlockNet().to(device)\n",
        "\n",
        "optimizer = optim.SGD(net.parameters(), lr=0.1, momentum=0.9)\n",
        "\n",
        "scheduler = optim.lr_scheduler.MultiStepLR(optimizer, milestones=[10, 15], gamma=0.1)\n",
        "\n",
        "tr_loss_log, tr_acc_log, val_loss_log, val_acc_log = train(net, optimizer, 20, train_loader, val_loader, scheduler)"
      ],
      "metadata": {
        "id": "na0ScBf-_AqX",
        "scrolled": true,
        "pycharm": {
          "name": "#%%\n"
        },
        "trusted": true,
        "execution": {
          "iopub.status.busy": "2024-11-15T17:45:02.653596Z",
          "iopub.execute_input": "2024-11-15T17:45:02.654041Z",
          "iopub.status.idle": "2024-11-15T17:48:28.123521Z",
          "shell.execute_reply.started": "2024-11-15T17:45:02.653995Z",
          "shell.execute_reply": "2024-11-15T17:48:28.122280Z"
        },
        "outputId": "a5d5f974-05c5-46a2-eb86-2bed02c0e0bb"
      },
      "outputs": [
        {
          "name": "stdout",
          "text": "Files already downloaded and verified\nFiles already downloaded and verified\nEpoch 0\n train loss: 1.4581827917962014, train acc: 0.48122061900726404\n val loss: 1.21085571202826, val acc: 0.5703235816448293\n\nEpoch 1\n train loss: 1.142564994652485, train acc: 0.5978225385685072\n val loss: 1.0953163339736613, val acc: 0.6202349292471053\n\nEpoch 2\n train loss: 1.0490527294671514, train acc: 0.6354669953613002\n val loss: 1.031701461812283, val acc: 0.643971631374765\n\nEpoch 3\n train loss: 0.9957527503017097, train acc: 0.6566662314387083\n val loss: 1.0037002380858076, val acc: 0.65625\n\nEpoch 4\n train loss: 0.955756584948552, train acc: 0.6681656438646194\n val loss: 0.9943390435360847, val acc: 0.6554521276595745\n\nEpoch 5\n train loss: 0.9276315527380712, train acc: 0.678506137466082\n val loss: 0.9804589172627064, val acc: 0.6578235816448292\n\nEpoch 6\n train loss: 0.910201702900299, train acc: 0.6850556608091979\n val loss: 0.9172156833587809, val acc: 0.6809618795171697\n\nEpoch 7\n train loss: 0.8988288177868566, train acc: 0.6882998171846435\n val loss: 0.9245183062046132, val acc: 0.6859264186088075\n\nEpoch 8\n train loss: 0.8853826137085937, train acc: 0.6930375098092465\n val loss: 0.9138910133787926, val acc: 0.6854831561129144\n\nEpoch 9\n train loss: 0.8696166227896863, train acc: 0.6996768086440385\n val loss: 0.884568896699459, val acc: 0.6988696808510638\n\nEpoch 10\n train loss: 0.775472422023142, train acc: 0.734628003410709\n val loss: 0.8084055857455477, val acc: 0.7244902483960416\n\nEpoch 11\n train loss: 0.7607834682386144, train acc: 0.7382231000572498\n val loss: 0.8089683980383772, val acc: 0.72475620584285\n\nEpoch 12\n train loss: 0.7571876008179331, train acc: 0.7392024681162791\n val loss: 0.8012941707956031, val acc: 0.7240248228641266\n\nEpoch 13\n train loss: 0.747474437113, train acc: 0.7433117328439813\n val loss: 0.791029458477142, val acc: 0.7300088654173181\n\nEpoch 14\n train loss: 0.7476372699741908, train acc: 0.7421609754972092\n val loss: 0.7954473064300862, val acc: 0.7276152483960415\n\nEpoch 15\n train loss: 0.7340284299915844, train acc: 0.747661759038294\n val loss: 0.7851708123024473, val acc: 0.7324024824385947\n\nEpoch 16\n train loss: 0.7342794195389617, train acc: 0.7471231066330696\n val loss: 0.7872301789040261, val acc: 0.7300310284533399\n\nEpoch 17\n train loss: 0.7298372992649811, train acc: 0.7497021089524194\n val loss: 0.7878505021967787, val acc: 0.7306072696726373\n\nEpoch 18\n train loss: 0.7292440914475722, train acc: 0.7484615762229375\n val loss: 0.7891606223075948, val acc: 0.7311391845662543\n\nEpoch 19\n train loss: 0.7309436410175163, train acc: 0.7488247584381312\n val loss: 0.7839465918693137, val acc: 0.7317597518575952\n\n",
          "output_type": "stream"
        }
      ],
      "execution_count": null
    },
    {
      "cell_type": "markdown",
      "source": [
        "Посчитайте точность на тестовой выборке:"
      ],
      "metadata": {
        "id": "v3ZIqDQqO9Dv",
        "pycharm": {
          "name": "#%% md\n"
        }
      }
    },
    {
      "cell_type": "code",
      "source": [
        "loss, acc = test(net, test_loader)\n",
        "print(acc)"
      ],
      "metadata": {
        "id": "nNJizMkM_Auh",
        "pycharm": {
          "name": "#%%\n"
        },
        "trusted": true,
        "execution": {
          "iopub.status.busy": "2024-11-15T17:50:18.401063Z",
          "iopub.execute_input": "2024-11-15T17:50:18.401525Z",
          "iopub.status.idle": "2024-11-15T17:50:20.134716Z",
          "shell.execute_reply.started": "2024-11-15T17:50:18.401476Z",
          "shell.execute_reply": "2024-11-15T17:50:20.133532Z"
        },
        "outputId": "718c1fd5-7c58-4b9e-890c-0ccbe2ca4fc5"
      },
      "outputs": [
        {
          "name": "stdout",
          "text": "0.7203423566878981\n",
          "output_type": "stream"
        }
      ],
      "execution_count": null
    },
    {
      "cell_type": "markdown",
      "source": [
        "**Задание 4.1 (2 балла).** Изучите, какие еще способы аугментаций изображений представлены в <code>torchvision.transforms</code>. Выберите несколько из них, объясните, как они устроены, и обучите модель с ними (по отдельности и вместе). Удалось ли добиться улучшения качества на тестовой выборке?"
      ],
      "metadata": {
        "id": "KndehSCHO9Dv",
        "pycharm": {
          "name": "#%% md\n"
        }
      }
    },
    {
      "cell_type": "code",
      "source": [
        "transform = transforms.Compose(\n",
        "\n",
        "        [transforms.RandomAffine(degrees=0),\n",
        "\n",
        "         transforms.ToTensor(),\n",
        "\n",
        "         transforms.Normalize((0.5, 0.5, 0.5), (0.5, 0.5, 0.5))]\n",
        "\n",
        ")\n",
        "\n",
        "\n",
        "\n",
        "train_loader, val_loader, test_loader = get_cifar10_data(batch_size=64, transform_train=transform)\n",
        "\n",
        "net = BasicBlockNet().to(device)\n",
        "\n",
        "optimizer = optim.SGD(net.parameters(), lr=0.1, momentum=0.9)\n",
        "\n",
        "scheduler = optim.lr_scheduler.MultiStepLR(optimizer, milestones=[10, 15], gamma=0.1)\n",
        "\n",
        "tr_loss_log, tr_acc_log, val_loss_log, val_acc_log = train(net, optimizer, 20, train_loader, val_loader, scheduler)"
      ],
      "metadata": {
        "id": "Np4rgvdZ_QRF",
        "pycharm": {
          "name": "#%%\n"
        },
        "trusted": true,
        "execution": {
          "iopub.status.busy": "2024-11-15T17:53:09.755065Z",
          "iopub.execute_input": "2024-11-15T17:53:09.755490Z",
          "iopub.status.idle": "2024-11-15T17:57:07.094562Z",
          "shell.execute_reply.started": "2024-11-15T17:53:09.755420Z",
          "shell.execute_reply": "2024-11-15T17:57:07.093358Z"
        },
        "outputId": "dab4823a-1dba-4294-e77e-3e8a78854e28"
      },
      "outputs": [
        {
          "name": "stdout",
          "text": "Files already downloaded and verified\nFiles already downloaded and verified\nEpoch 0\n train loss: 1.4711917303162039, train acc: 0.47551171980130824\n val loss: 1.269032824293096, val acc: 0.5413120567798615\n\nEpoch 1\n train loss: 1.1509139531273294, train acc: 0.5984550470407963\n val loss: 1.1113193580444822, val acc: 0.6109485816448292\n\nEpoch 2\n train loss: 1.0356618963604218, train acc: 0.6380215134655536\n val loss: 1.0097879082598584, val acc: 0.6506870569066798\n\nEpoch 3\n train loss: 0.977192619818874, train acc: 0.6600287282052816\n val loss: 0.9648428873812899, val acc: 0.6619459220703612\n\nEpoch 4\n train loss: 0.9383384829465389, train acc: 0.6727809154137397\n val loss: 1.0049088303078997, val acc: 0.6476063829787234\n\nEpoch 5\n train loss: 0.918162029556644, train acc: 0.680624020709852\n val loss: 0.9400520956262629, val acc: 0.6731161348363186\n\nEpoch 6\n train loss: 0.8940381855589816, train acc: 0.6890302625173189\n val loss: 0.9716131486791245, val acc: 0.6639627659574469\n\nEpoch 7\n train loss: 0.8849172640108321, train acc: 0.6920663032278936\n val loss: 0.9276704641098672, val acc: 0.6797429079705096\n\nEpoch 8\n train loss: 0.8690047081035496, train acc: 0.7014274288792933\n val loss: 0.9101686358451844, val acc: 0.6892730497299356\n\nEpoch 9\n train loss: 0.8463698565633031, train acc: 0.7068425177220234\n val loss: 0.9000807362668057, val acc: 0.6943705675449777\n\nEpoch 10\n train loss: 0.7393926666467238, train acc: 0.743948322109592\n val loss: 0.8275657467385555, val acc: 0.7179078015875309\n\nEpoch 11\n train loss: 0.7225155999281289, train acc: 0.7527830374088322\n val loss: 0.8213269260335476, val acc: 0.7203457446808511\n\nEpoch 12\n train loss: 0.7164615939151653, train acc: 0.752672858495381\n val loss: 0.8222787947096724, val acc: 0.7203457446808511\n\nEpoch 13\n train loss: 0.7116360438262305, train acc: 0.7553946853119887\n val loss: 0.8172929517766263, val acc: 0.7215425531914894\n\nEpoch 14\n train loss: 0.7086076383398917, train acc: 0.7567290742175017\n val loss: 0.817093707906439, val acc: 0.7204787234042553\n\nEpoch 15\n train loss: 0.6936475223771397, train acc: 0.7618585140657164\n val loss: 0.8095776355012935, val acc: 0.7251551420130629\n\nEpoch 16\n train loss: 0.6911438673026383, train acc: 0.7619686928702011\n val loss: 0.8104553806020859, val acc: 0.7235593973322118\n\nEpoch 17\n train loss: 0.6897157635505718, train acc: 0.7631684187561328\n val loss: 0.8102038847639206, val acc: 0.723692376055616\n\nEpoch 18\n train loss: 0.6890671565393207, train acc: 0.7643436603180015\n val loss: 0.8097801193277887, val acc: 0.7250886526513607\n\nEpoch 19\n train loss: 0.6888469397149967, train acc: 0.762727703102328\n val loss: 0.8093968049008795, val acc: 0.7269503547790203\n\n",
          "output_type": "stream"
        }
      ],
      "execution_count": null
    },
    {
      "cell_type": "code",
      "source": [
        "loss, acc = test(net, test_loader)\n",
        "print(acc)"
      ],
      "metadata": {
        "trusted": true,
        "execution": {
          "iopub.status.busy": "2024-11-15T17:57:34.144504Z",
          "iopub.execute_input": "2024-11-15T17:57:34.144922Z",
          "iopub.status.idle": "2024-11-15T17:57:35.908549Z",
          "shell.execute_reply.started": "2024-11-15T17:57:34.144882Z",
          "shell.execute_reply": "2024-11-15T17:57:35.907330Z"
        },
        "id": "F5pQr1yLQvaj",
        "outputId": "abf72da6-b122-4719-96fb-ca925e065466"
      },
      "outputs": [
        {
          "name": "stdout",
          "text": "0.7128781847133758\n",
          "output_type": "stream"
        }
      ],
      "execution_count": null
    },
    {
      "cell_type": "code",
      "source": [
        "transform = transforms.Compose(\n",
        "\n",
        "        [transforms.ColorJitter(),\n",
        "\n",
        "         transforms.ToTensor(),\n",
        "\n",
        "         transforms.Normalize((0.5, 0.5, 0.5), (0.5, 0.5, 0.5))]\n",
        "\n",
        ")\n",
        "\n",
        "\n",
        "\n",
        "train_loader, val_loader, test_loader = get_cifar10_data(batch_size=64, transform_train=transform)\n",
        "\n",
        "net = BasicBlockNet().to(device)\n",
        "\n",
        "optimizer = optim.SGD(net.parameters(), lr=0.1, momentum=0.9)\n",
        "\n",
        "scheduler = optim.lr_scheduler.MultiStepLR(optimizer, milestones=[10, 15], gamma=0.1)\n",
        "\n",
        "tr_loss_log, tr_acc_log, val_loss_log, val_acc_log = train(net, optimizer, 20, train_loader, val_loader, scheduler)"
      ],
      "metadata": {
        "trusted": true,
        "execution": {
          "iopub.status.busy": "2024-11-15T17:57:40.048542Z",
          "iopub.execute_input": "2024-11-15T17:57:40.049276Z",
          "iopub.status.idle": "2024-11-15T18:01:51.524081Z",
          "shell.execute_reply.started": "2024-11-15T17:57:40.049233Z",
          "shell.execute_reply": "2024-11-15T18:01:51.522740Z"
        },
        "id": "b2ErjvzaQvaj",
        "outputId": "60ef1961-153e-4f8e-db8b-e2aac7135d9c"
      },
      "outputs": [
        {
          "name": "stdout",
          "text": "Files already downloaded and verified\nFiles already downloaded and verified\nEpoch 0\n train loss: 1.4707482055074772, train acc: 0.47693996477388595\n val loss: 1.2900749586998148, val acc: 0.5372783688788718\n\nEpoch 1\n train loss: 1.150124289000056, train acc: 0.5964840689786391\n val loss: 1.111322358567664, val acc: 0.6105274823117763\n\nEpoch 2\n train loss: 1.0382448172220582, train acc: 0.6386744254685843\n val loss: 1.0099041373171704, val acc: 0.6533909574468085\n\nEpoch 3\n train loss: 0.9772639400998243, train acc: 0.6602735701383141\n val loss: 0.9930730959202381, val acc: 0.6585771276595744\n\nEpoch 4\n train loss: 0.9385905087103138, train acc: 0.6729196592266424\n val loss: 1.0039694618671497, val acc: 0.652969858240574\n\nEpoch 5\n train loss: 0.915757663180231, train acc: 0.6813340625117859\n val loss: 0.9611993787136484, val acc: 0.6654033688788719\n\nEpoch 6\n train loss: 0.8919168081972237, train acc: 0.6895893184532849\n val loss: 1.006241825540015, val acc: 0.6527039007937655\n\nEpoch 7\n train loss: 0.8843294009430099, train acc: 0.6907441564844121\n val loss: 0.907932641912014, val acc: 0.6875443263256803\n\nEpoch 8\n train loss: 0.868847847148313, train acc: 0.6985178898195897\n val loss: 0.9236203287510162, val acc: 0.6829122340425532\n\nEpoch 9\n train loss: 0.8447804549058568, train acc: 0.7074464612948611\n val loss: 0.9130823084648619, val acc: 0.6862588654173182\n\nEpoch 10\n train loss: 0.7417877089824712, train acc: 0.744205406204656\n val loss: 0.8252040017158427, val acc: 0.7180186170212766\n\nEpoch 11\n train loss: 0.7255726432124701, train acc: 0.7494082985891939\n val loss: 0.8215431953998322, val acc: 0.7183289007937654\n\nEpoch 12\n train loss: 0.7197610043956331, train acc: 0.752105641190705\n val loss: 0.8200858506750554, val acc: 0.7177304965384463\n\nEpoch 13\n train loss: 0.7153577318575091, train acc: 0.7538276966354747\n val loss: 0.815230744696678, val acc: 0.7186835106382978\n\nEpoch 14\n train loss: 0.7115876222441357, train acc: 0.7555946396081495\n val loss: 0.8178608101733187, val acc: 0.7179521276595745\n\nEpoch 15\n train loss: 0.6970212187148099, train acc: 0.759524353679399\n val loss: 0.80818565931726, val acc: 0.7217420212765957\n\nEpoch 16\n train loss: 0.6949286070776596, train acc: 0.7611035845179445\n val loss: 0.8092710279403849, val acc: 0.7219414893617021\n\nEpoch 17\n train loss: 0.6933804750442505, train acc: 0.7606710303418162\n val loss: 0.8087900694380415, val acc: 0.7219414893617021\n\nEpoch 18\n train loss: 0.6922844144391403, train acc: 0.763033755627585\n val loss: 0.8082591990207104, val acc: 0.7218085106382979\n\nEpoch 19\n train loss: 0.6923001439632401, train acc: 0.7619890964009426\n val loss: 0.807699535121309, val acc: 0.7220744680851063\n\n",
          "output_type": "stream"
        }
      ],
      "execution_count": null
    },
    {
      "cell_type": "code",
      "source": [
        "loss, acc = test(net, test_loader)\n",
        "print(acc)"
      ],
      "metadata": {
        "trusted": true,
        "execution": {
          "iopub.status.busy": "2024-11-15T18:01:56.274434Z",
          "iopub.execute_input": "2024-11-15T18:01:56.275069Z",
          "iopub.status.idle": "2024-11-15T18:01:58.041348Z",
          "shell.execute_reply.started": "2024-11-15T18:01:56.275021Z",
          "shell.execute_reply": "2024-11-15T18:01:58.040194Z"
        },
        "id": "bS82x2INQvaj",
        "outputId": "248f581d-eb5b-42a3-c90e-27a7956617b3"
      },
      "outputs": [
        {
          "name": "stdout",
          "text": "0.7138734076433121\n",
          "output_type": "stream"
        }
      ],
      "execution_count": null
    },
    {
      "cell_type": "code",
      "source": [
        "transform = transforms.Compose(\n",
        "\n",
        "        [transforms.RandomPerspective(distortion_scale=0.2),\n",
        "\n",
        "         transforms.ToTensor(),\n",
        "\n",
        "         transforms.Normalize((0.5, 0.5, 0.5), (0.5, 0.5, 0.5))]\n",
        "\n",
        ")\n",
        "\n",
        "\n",
        "\n",
        "train_loader, val_loader, test_loader = get_cifar10_data(batch_size=64, transform_train=transform)\n",
        "\n",
        "net = BasicBlockNet().to(device)\n",
        "\n",
        "optimizer = optim.SGD(net.parameters(), lr=0.1, momentum=0.9)\n",
        "\n",
        "scheduler = optim.lr_scheduler.MultiStepLR(optimizer, milestones=[10, 15], gamma=0.1)\n",
        "\n",
        "tr_loss_log, tr_acc_log, val_loss_log, val_acc_log = train(net, optimizer, 20, train_loader, val_loader, scheduler)"
      ],
      "metadata": {
        "trusted": true,
        "execution": {
          "iopub.status.busy": "2024-11-15T18:16:41.443120Z",
          "iopub.execute_input": "2024-11-15T18:16:41.443541Z",
          "iopub.status.idle": "2024-11-15T18:22:09.796893Z",
          "shell.execute_reply.started": "2024-11-15T18:16:41.443496Z",
          "shell.execute_reply": "2024-11-15T18:22:09.795646Z"
        },
        "id": "o6VsNKwFQvaj",
        "outputId": "9aaa2a73-e65f-4bfe-a979-0c610478ef89"
      },
      "outputs": [
        {
          "name": "stdout",
          "text": "Files already downloaded and verified\nFiles already downloaded and verified\nEpoch 0\n train loss: 1.5773265117701054, train acc: 0.43307244058500916\n val loss: 1.4016753759789975, val acc: 0.4933953901554676\n\nEpoch 1\n train loss: 1.287694822390729, train acc: 0.5419414338725577\n val loss: 1.1945544887096324, val acc: 0.5805851063829788\n\nEpoch 2\n train loss: 1.1729555967956835, train acc: 0.5861272526397565\n val loss: 1.125551901218739, val acc: 0.60600620584285\n\nEpoch 3\n train loss: 1.10547465707092, train acc: 0.611211315042576\n val loss: 1.1178741777196843, val acc: 0.6172207446808511\n\nEpoch 4\n train loss: 1.0581912535636038, train acc: 0.6305048642254398\n val loss: 1.183833970668468, val acc: 0.5917774823117763\n\nEpoch 5\n train loss: 1.0291127938457119, train acc: 0.6412819926873857\n val loss: 1.063664176362626, val acc: 0.6251551420130628\n\nEpoch 6\n train loss: 1.001485330640071, train acc: 0.6494964416763682\n val loss: 0.985073105578727, val acc: 0.6559618795171697\n\nEpoch 7\n train loss: 0.9831041499727169, train acc: 0.6562173544161934\n val loss: 1.046991631325255, val acc: 0.6335549646235527\n\nEpoch 8\n train loss: 0.9678840919430121, train acc: 0.6629301057873086\n val loss: 1.011997853695078, val acc: 0.6520168441407224\n\nEpoch 9\n train loss: 0.9430774407805211, train acc: 0.6697081484350034\n val loss: 0.9530289429299375, val acc: 0.6730718085106383\n\nEpoch 10\n train loss: 0.8348363369321911, train acc: 0.7090950640943412\n val loss: 0.888499401731694, val acc: 0.691156914893617\n\nEpoch 11\n train loss: 0.8195966410244623, train acc: 0.7125840625117859\n val loss: 0.8852739088078763, val acc: 0.6930851063829787\n\nEpoch 12\n train loss: 0.8126209827729074, train acc: 0.7172768673905506\n val loss: 0.8866710662841797, val acc: 0.6940824468085106\n\nEpoch 13\n train loss: 0.8114281675933266, train acc: 0.7184235440529678\n val loss: 0.8750857513001624, val acc: 0.69350620584285\n\nEpoch 14\n train loss: 0.8075460872222998, train acc: 0.7176726952985174\n val loss: 0.8751033884413699, val acc: 0.6966312058428501\n\nEpoch 15\n train loss: 0.7927293640712934, train acc: 0.7260585335752427\n val loss: 0.861284180397683, val acc: 0.7022163122258288\n\nEpoch 16\n train loss: 0.7920664714502896, train acc: 0.7240916361974405\n val loss: 0.8617996418729742, val acc: 0.6986258866939139\n\nEpoch 17\n train loss: 0.7898437203720239, train acc: 0.7257198355751456\n val loss: 0.8656491875648499, val acc: 0.7011524824385947\n\nEpoch 18\n train loss: 0.7907434376109889, train acc: 0.7246996605635997\n val loss: 0.8675882387668529, val acc: 0.6998891845662543\n\nEpoch 19\n train loss: 0.787591958612585, train acc: 0.7260870984746943\n val loss: 0.8660054265184606, val acc: 0.6966533688788719\n\n",
          "output_type": "stream"
        }
      ],
      "execution_count": null
    },
    {
      "cell_type": "code",
      "source": [
        "loss, acc = test(net, test_loader)\n",
        "print(acc)"
      ],
      "metadata": {
        "trusted": true,
        "execution": {
          "iopub.status.busy": "2024-11-15T18:23:45.101722Z",
          "iopub.execute_input": "2024-11-15T18:23:45.102127Z",
          "iopub.status.idle": "2024-11-15T18:23:46.792778Z",
          "shell.execute_reply.started": "2024-11-15T18:23:45.102088Z",
          "shell.execute_reply": "2024-11-15T18:23:46.791565Z"
        },
        "id": "YpA1oDDCQvaj",
        "outputId": "ca0ec12a-e1d7-401d-99d5-75129f3763b2"
      },
      "outputs": [
        {
          "name": "stdout",
          "text": "0.7053144904458599\n",
          "output_type": "stream"
        }
      ],
      "execution_count": null
    },
    {
      "cell_type": "markdown",
      "source": [
        "Your answers here:\n",
        "- RandomAffine - рандомное афинное преобразование\n",
        "- ColorJitter - рандомно меняет контраст, насыщенность яркость\n",
        "- RandomPerspective - рандомно искажает перспективу картинки"
      ],
      "metadata": {
        "id": "4K-MptLiO9Dv",
        "pycharm": {
          "name": "#%% md\n"
        }
      }
    },
    {
      "cell_type": "markdown",
      "source": [
        "Почти любая трансформация лучше, чем бейзлан (кроме RandomPerspective), но все три, выбранные мной, хуже чем RandomHorizontalFLip(), возможно сложновато для модели."
      ],
      "metadata": {
        "id": "pX2ZbKdMQvaj"
      }
    },
    {
      "cell_type": "markdown",
      "source": [
        "Поскольку RandomPersepective была хуже всех, я возьму вместо нее RandomHorizontalFlip"
      ],
      "metadata": {
        "id": "EYVyx3YEQvak"
      }
    },
    {
      "cell_type": "code",
      "source": [
        "transform = transforms.Compose(\n",
        "        [transforms.ColorJitter(),\n",
        "         transforms.RandomHorizontalFlip(),\n",
        "         transforms.RandomAffine(degrees=0),\n",
        "\n",
        "         transforms.ToTensor(),\n",
        "\n",
        "         transforms.Normalize((0.5, 0.5, 0.5), (0.5, 0.5, 0.5))]\n",
        "\n",
        ")\n",
        "\n",
        "\n",
        "\n",
        "train_loader, val_loader, test_loader = get_cifar10_data(batch_size=64, transform_train=transform)\n",
        "\n",
        "net = BasicBlockNet().to(device)\n",
        "\n",
        "optimizer = optim.SGD(net.parameters(), lr=0.1, momentum=0.9)\n",
        "\n",
        "scheduler = optim.lr_scheduler.MultiStepLR(optimizer, milestones=[10, 15], gamma=0.1)\n",
        "\n",
        "tr_loss_log, tr_acc_log, val_loss_log, val_acc_log = train(net, optimizer, 20, train_loader, val_loader, scheduler)"
      ],
      "metadata": {
        "trusted": true,
        "execution": {
          "iopub.status.busy": "2024-11-15T18:25:04.611361Z",
          "iopub.execute_input": "2024-11-15T18:25:04.612290Z",
          "iopub.status.idle": "2024-11-15T18:30:29.626625Z",
          "shell.execute_reply.started": "2024-11-15T18:25:04.612247Z",
          "shell.execute_reply": "2024-11-15T18:30:29.625477Z"
        },
        "id": "utD4JXutQvak",
        "outputId": "8bf8c655-2eaf-4c14-95cd-d8cf9f94271d"
      },
      "outputs": [
        {
          "name": "stdout",
          "text": "Files already downloaded and verified\nFiles already downloaded and verified\nEpoch 0\n train loss: 1.4791209345761775, train acc: 0.47450786763614883\n val loss: 1.276726608834368, val acc: 0.5410904255319149\n\nEpoch 1\n train loss: 1.1584971170102873, train acc: 0.5930848459439042\n val loss: 1.096473098562119, val acc: 0.6184175531914894\n\nEpoch 2\n train loss: 1.048578544770124, train acc: 0.635870984637977\n val loss: 1.0162671535573107, val acc: 0.6521719859001485\n\nEpoch 3\n train loss: 0.9915592850235306, train acc: 0.6568743471035792\n val loss: 0.9770073129775676, val acc: 0.6618351063829787\n\nEpoch 4\n train loss: 0.9494633632124669, train acc: 0.6693572081639082\n val loss: 1.010661138625855, val acc: 0.646187943346957\n\nEpoch 5\n train loss: 0.9270274531252859, train acc: 0.6801506594722406\n val loss: 0.9563354956342819, val acc: 0.662455673801138\n\nEpoch 6\n train loss: 0.907829252577351, train acc: 0.685361713334455\n val loss: 0.9453459529166526, val acc: 0.6707890071767442\n\nEpoch 7\n train loss: 0.8963779277513843, train acc: 0.6903156829926388\n val loss: 0.916685048823661, val acc: 0.684906914893617\n\nEpoch 8\n train loss: 0.8864128754169457, train acc: 0.6924376469207638\n val loss: 0.9088300585746765, val acc: 0.6898049646235527\n\nEpoch 9\n train loss: 0.8611124589412696, train acc: 0.7013213306501971\n val loss: 0.8792065029448651, val acc: 0.6994237590343394\n\nEpoch 10\n train loss: 0.7746616868366925, train acc: 0.7325142008512939\n val loss: 0.8106200410964641, val acc: 0.7217420212765957\n\nEpoch 11\n train loss: 0.7606598947340217, train acc: 0.7382924720181844\n val loss: 0.8020653841343331, val acc: 0.7293218085106383\n\nEpoch 12\n train loss: 0.7540517036940977, train acc: 0.7399084291248914\n val loss: 0.8003689091256324, val acc: 0.7262411348363187\n\nEpoch 13\n train loss: 0.750669310907995, train acc: 0.7427894032851433\n val loss: 0.7897433863041249, val acc: 0.7255762412192973\n\nEpoch 14\n train loss: 0.7446710137170237, train acc: 0.743389266173626\n val loss: 0.7920974264753625, val acc: 0.7273714539852548\n\nEpoch 15\n train loss: 0.7341816137652074, train acc: 0.7494001372204838\n val loss: 0.7895830451173985, val acc: 0.728125\n\nEpoch 16\n train loss: 0.732832862210666, train acc: 0.747053734672135\n val loss: 0.7903378636279005, val acc: 0.7273714539852548\n\nEpoch 17\n train loss: 0.7296934071689899, train acc: 0.7480412640998743\n val loss: 0.786530000985937, val acc: 0.7293218085106383\n\nEpoch 18\n train loss: 0.7301033516252716, train acc: 0.7499224667793218\n val loss: 0.7858815489931309, val acc: 0.7304299646235527\n\nEpoch 19\n train loss: 0.7294709273840435, train acc: 0.7497714808043876\n val loss: 0.7857088478321724, val acc: 0.7288342199427016\n\n",
          "output_type": "stream"
        }
      ],
      "execution_count": null
    },
    {
      "cell_type": "code",
      "source": [
        "loss, acc = test(net, test_loader)\n",
        "print(acc)"
      ],
      "metadata": {
        "trusted": true,
        "execution": {
          "iopub.status.busy": "2024-11-15T18:30:52.319164Z",
          "iopub.execute_input": "2024-11-15T18:30:52.319949Z",
          "iopub.status.idle": "2024-11-15T18:30:54.115741Z",
          "shell.execute_reply.started": "2024-11-15T18:30:52.319896Z",
          "shell.execute_reply": "2024-11-15T18:30:54.114538Z"
        },
        "id": "rkMeo2x0Qvak",
        "outputId": "4e33fb82-3db4-4005-e81f-7cc9d081342d"
      },
      "outputs": [
        {
          "name": "stdout",
          "text": "0.7254179936305732\n",
          "output_type": "stream"
        }
      ],
      "execution_count": null
    },
    {
      "cell_type": "markdown",
      "source": [
        "Пока наш лучший результат"
      ],
      "metadata": {
        "id": "4yveqSRpQvak"
      }
    },
    {
      "cell_type": "markdown",
      "source": [
        "И с наилучшим LR-планировщиком получаем"
      ],
      "metadata": {
        "id": "3k0lCr7tQvak"
      }
    },
    {
      "cell_type": "code",
      "source": [
        "transform = transforms.Compose(\n",
        "        [transforms.ColorJitter(),\n",
        "         transforms.RandomHorizontalFlip(),\n",
        "         transforms.RandomAffine(degrees=0),\n",
        "\n",
        "         transforms.ToTensor(),\n",
        "\n",
        "         transforms.Normalize((0.5, 0.5, 0.5), (0.5, 0.5, 0.5))]\n",
        "\n",
        ")\n",
        "\n",
        "\n",
        "\n",
        "train_loader, val_loader, test_loader = get_cifar10_data(batch_size=64, transform_train=transform)\n",
        "\n",
        "net = BasicBlockNet().to(device)\n",
        "\n",
        "optimizer = optim.SGD(net.parameters(), lr=0.1, momentum=0.9)\n",
        "\n",
        "scheduler = optim.lr_scheduler.ExponentialLR(optimizer, gamma = 0.9)\n",
        "\n",
        "tr_loss_log, tr_acc_log, val_loss_log, val_acc_log = train(net, optimizer, 20, train_loader, val_loader, scheduler)"
      ],
      "metadata": {
        "trusted": true,
        "execution": {
          "iopub.status.busy": "2024-11-15T18:31:15.052243Z",
          "iopub.execute_input": "2024-11-15T18:31:15.053065Z",
          "iopub.status.idle": "2024-11-15T18:36:40.901746Z",
          "shell.execute_reply.started": "2024-11-15T18:31:15.053021Z",
          "shell.execute_reply": "2024-11-15T18:36:40.900472Z"
        },
        "id": "G__n4NsRQvak",
        "outputId": "2ec5d416-1579-46db-bf71-5eac218040fa"
      },
      "outputs": [
        {
          "name": "stdout",
          "text": "Files already downloaded and verified\nFiles already downloaded and verified\nEpoch 0\n train loss: 1.476120848651342, train acc: 0.4767604140084666\n val loss: 1.2606870889663697, val acc: 0.5511081561129144\n\nEpoch 1\n train loss: 1.1456889704114994, train acc: 0.6002546357062443\n val loss: 1.0832591881143285, val acc: 0.6240913122258288\n\nEpoch 2\n train loss: 1.0339799824100961, train acc: 0.6391681901279708\n val loss: 1.0247474989992507, val acc: 0.6456338654173182\n\nEpoch 3\n train loss: 0.9755119877497936, train acc: 0.6616161204125371\n val loss: 0.9407103137767061, val acc: 0.6774157803109352\n\nEpoch 4\n train loss: 0.9290336764926667, train acc: 0.6788856425276623\n val loss: 0.9610004323594113, val acc: 0.6666888297872341\n\nEpoch 5\n train loss: 0.9026184964659445, train acc: 0.6870348002400651\n val loss: 0.9333723164619283, val acc: 0.6716312058428501\n\nEpoch 6\n train loss: 0.881580763750146, train acc: 0.6941270566727605\n val loss: 0.8896686858319222, val acc: 0.689561170212766\n\nEpoch 7\n train loss: 0.8617047794449264, train acc: 0.7029944176647738\n val loss: 0.8820620184249066, val acc: 0.6961436170212766\n\nEpoch 8\n train loss: 0.8466434103915199, train acc: 0.7086665906025679\n val loss: 0.8842532657562419, val acc: 0.6972296100981692\n\nEpoch 9\n train loss: 0.8277497931197967, train acc: 0.7124575607519481\n val loss: 0.8482112077956504, val acc: 0.7072916667512122\n\nEpoch 10\n train loss: 0.8143122525821003, train acc: 0.7186683860949667\n val loss: 0.8503850629989137, val acc: 0.7039228723404255\n\nEpoch 11\n train loss: 0.8051576775105388, train acc: 0.7212637112607032\n val loss: 0.8395792403119675, val acc: 0.7113031914893617\n\nEpoch 12\n train loss: 0.7927984358296751, train acc: 0.7281315291821412\n val loss: 0.8492217801986857, val acc: 0.7059840425531915\n\nEpoch 13\n train loss: 0.7828317535206866, train acc: 0.73177967494323\n val loss: 0.8232954905388203, val acc: 0.713940602921425\n\nEpoch 14\n train loss: 0.7772733112575803, train acc: 0.7328365762229375\n val loss: 0.809892330778406, val acc: 0.7238696808510638\n\nEpoch 15\n train loss: 0.7688877975374079, train acc: 0.7356481784222548\n val loss: 0.8115712463855743, val acc: 0.7195700356300841\n\nEpoch 16\n train loss: 0.7605209110314929, train acc: 0.7392269522224092\n val loss: 0.8018146941002379, val acc: 0.724224290949233\n\nEpoch 17\n train loss: 0.7511057087119798, train acc: 0.741842680918887\n val loss: 0.8250057826650904, val acc: 0.7121453901554676\n\nEpoch 18\n train loss: 0.7491376050756444, train acc: 0.7416141617232747\n val loss: 0.7939058610733519, val acc: 0.7273714539852548\n\nEpoch 19\n train loss: 0.7404821530883448, train acc: 0.7449480935903964\n val loss: 0.7950566517545822, val acc: 0.7276374114320633\n\n",
          "output_type": "stream"
        }
      ],
      "execution_count": null
    },
    {
      "cell_type": "code",
      "source": [
        "loss, acc = test(net, test_loader)\n",
        "print(acc)"
      ],
      "metadata": {
        "trusted": true,
        "execution": {
          "iopub.status.busy": "2024-11-15T18:37:23.492542Z",
          "iopub.execute_input": "2024-11-15T18:37:23.492933Z",
          "iopub.status.idle": "2024-11-15T18:37:25.310198Z",
          "shell.execute_reply.started": "2024-11-15T18:37:23.492895Z",
          "shell.execute_reply": "2024-11-15T18:37:25.308982Z"
        },
        "id": "xGalEaXPQvak",
        "outputId": "49a880e5-0603-4d2d-ddf2-07b01b78f269"
      },
      "outputs": [
        {
          "name": "stdout",
          "text": "0.7179538216560509\n",
          "output_type": "stream"
        }
      ],
      "execution_count": null
    },
    {
      "cell_type": "markdown",
      "source": [
        "Хуже, чем с MultiStep :(. Ну что ж, остановимся на 72.5%"
      ],
      "metadata": {
        "id": "C27zhX7zQvak"
      }
    },
    {
      "cell_type": "markdown",
      "source": [
        "## Бонус. Логирование в wandb (2 балла)"
      ],
      "metadata": {
        "id": "HCENjLw5O9Dv",
        "pycharm": {
          "name": "#%% md\n"
        }
      }
    },
    {
      "cell_type": "markdown",
      "source": [
        "На практике специалиста по глубинному обучению часто встречаются ситуации, когда нейросеть учится на каком-то удаленном сервере. И обычно вам хочется отслеживать прогресс обучения, особенно когда время обучения модели исчисляется днями или неделями. Для таких целей существует несколько инструментов. Вероятно, самый популярный из них — [wandb](https://wandb.ai/site).\n",
        "\n",
        "\n",
        "\n",
        "Ваша задача состоит в том, чтобы разобраться как им пользоваться, и повторить задания 2.1 и 2.2 с его использованием. Обучение вы можете запускать в этом же ноутбуке, но теперь вам необходимо через wandb логировать значения функции потерь и точности на обучающей выборке и на валидационной. Результатом работы должны быть ваш код и публичная ссылка на страничку с графиками, идентичными графикам в задании 2.2."
      ],
      "metadata": {
        "id": "xOyzc1mnO9Dv",
        "pycharm": {
          "name": "#%% md\n"
        }
      }
    },
    {
      "cell_type": "code",
      "source": [
        "def test(model, loader):\n",
        "\n",
        "    loss_log = []\n",
        "\n",
        "    acc_log = []\n",
        "\n",
        "    model.eval()\n",
        "\n",
        "    for data, target in loader:\n",
        "        data, target = data.cuda(), target.cuda()\n",
        "        output = model(data)\n",
        "        pred = torch.argmax(output, dim=1)\n",
        "        acc = torch.mean((pred == target).float())\n",
        "        loss = F.cross_entropy(output, target)\n",
        "        loss_log.append(loss.item())\n",
        "        acc_log.append(acc.item())\n",
        "    val_loss =  np.mean(loss_log)\n",
        "    val_acc =  np.mean(acc_log)\n",
        "    wandb.log({\n",
        "        'Validation Loss': val_loss,\n",
        "        'Validation Accuracy': val_acc,\n",
        "    })\n",
        "    return val_loss, val_acc\n",
        "\n",
        "\n",
        "\n",
        "def train_epoch(model, optimizer, train_loader):\n",
        "\n",
        "    loss_log = []\n",
        "\n",
        "    acc_log = []\n",
        "\n",
        "    model.train()\n",
        "\n",
        "\n",
        "    for data, target in train_loader:\n",
        "        data, target = data.cuda(), target.cuda()\n",
        "        optimizer.zero_grad()\n",
        "        output = model(data)\n",
        "        pred = torch.argmax(output, dim=1)\n",
        "        acc = torch.mean((pred == target).float())\n",
        "        loss =  F.cross_entropy(output, target)\n",
        "        loss.backward()\n",
        "        optimizer.step()\n",
        "        loss_log.append(loss.item())\n",
        "        acc_log.append(acc.item())\n",
        "        wandb.log({\n",
        "                'Train Loss': loss.item(),\n",
        "                'Train Accuracy':acc.item(),\n",
        "        })\n",
        "    return loss_log, acc_log\n",
        "\n",
        "\n",
        "\n",
        "def train(model, optimizer, n_epochs, train_loader, val_loader, scheduler=None):\n",
        "\n",
        "    train_loss_log, train_acc_log, val_loss_log, val_acc_log = [], [], [], []\n",
        "\n",
        "\n",
        "\n",
        "    for epoch in range(n_epochs):\n",
        "\n",
        "        train_loss, train_acc = train_epoch(model, optimizer, train_loader)\n",
        "\n",
        "        val_loss, val_acc = test(model, val_loader)\n",
        "\n",
        "\n",
        "        train_loss_log.extend(train_loss)\n",
        "\n",
        "        train_acc_log.extend(train_acc)\n",
        "\n",
        "\n",
        "\n",
        "        val_loss_log.append(val_loss)\n",
        "\n",
        "        val_acc_log.append(val_acc)\n",
        "\n",
        "\n",
        "\n",
        "        print(f\"Epoch {epoch}\")\n",
        "\n",
        "        print(f\" train loss: {np.mean(train_loss)}, train acc: {np.mean(train_acc)}\")\n",
        "\n",
        "        print(f\" val loss: {val_loss}, val acc: {val_acc}\\n\")\n",
        "\n",
        "\n",
        "\n",
        "        if scheduler is not None:\n",
        "\n",
        "            scheduler.step()\n",
        "\n",
        "\n",
        "\n",
        "    return train_loss_log, train_acc_log, val_loss_log, val_acc_log"
      ],
      "metadata": {
        "trusted": true,
        "execution": {
          "iopub.status.busy": "2024-11-15T18:48:51.882328Z",
          "iopub.execute_input": "2024-11-15T18:48:51.882733Z",
          "iopub.status.idle": "2024-11-15T18:48:51.897930Z",
          "shell.execute_reply.started": "2024-11-15T18:48:51.882694Z",
          "shell.execute_reply": "2024-11-15T18:48:51.897007Z"
        },
        "id": "XKsTMVFVQvak"
      },
      "outputs": [],
      "execution_count": null
    },
    {
      "cell_type": "code",
      "source": [
        "transform = transforms.Compose(\n",
        "\n",
        "        [transforms.ToTensor(),\n",
        "\n",
        "         transforms.Normalize((0.5, 0.5, 0.5), (0.5, 0.5, 0.5))]\n",
        "\n",
        ")\n",
        "\n",
        "\n",
        "\n",
        "train_loader, val_loader, test_loader = get_cifar10_data(batch_size=64,\n",
        "\n",
        "                                                         transform_train=transform)"
      ],
      "metadata": {
        "trusted": true,
        "execution": {
          "iopub.status.busy": "2024-11-15T18:53:32.628895Z",
          "iopub.execute_input": "2024-11-15T18:53:32.629594Z",
          "iopub.status.idle": "2024-11-15T18:53:34.213519Z",
          "shell.execute_reply.started": "2024-11-15T18:53:32.629547Z",
          "shell.execute_reply": "2024-11-15T18:53:34.212493Z"
        },
        "id": "lseMTxFKQvak",
        "outputId": "f0a7ca31-40f0-4789-f126-68f7dca0d7f7"
      },
      "outputs": [
        {
          "name": "stdout",
          "text": "Files already downloaded and verified\nFiles already downloaded and verified\n",
          "output_type": "stream"
        }
      ],
      "execution_count": null
    },
    {
      "cell_type": "code",
      "source": [
        "net = BasicBlockNet().to(device)"
      ],
      "metadata": {
        "trusted": true,
        "execution": {
          "iopub.status.busy": "2024-11-15T18:55:55.708941Z",
          "iopub.execute_input": "2024-11-15T18:55:55.709338Z",
          "iopub.status.idle": "2024-11-15T18:55:55.719121Z",
          "shell.execute_reply.started": "2024-11-15T18:55:55.709294Z",
          "shell.execute_reply": "2024-11-15T18:55:55.718147Z"
        },
        "id": "saCoiLyzQval"
      },
      "outputs": [],
      "execution_count": null
    },
    {
      "cell_type": "code",
      "source": [
        "import wandb\n",
        "\n",
        "wandb.init(project='MNIST')\n",
        "optimizer = optim.SGD(net.parameters(), lr=0.1, momentum=0.9)\n",
        "\n",
        "train_loss_log, train_acc_log, val_loss_log, val_acc_log = train(net, optimizer, 20, train_loader, val_loader)\n",
        "\n",
        "wandb.finish()"
      ],
      "metadata": {
        "id": "m5gSTLAr_QS4",
        "pycharm": {
          "name": "#%%\n"
        },
        "trusted": true,
        "execution": {
          "iopub.status.busy": "2024-11-15T18:56:00.281304Z",
          "iopub.execute_input": "2024-11-15T18:56:00.282204Z",
          "iopub.status.idle": "2024-11-15T18:59:15.283909Z",
          "shell.execute_reply.started": "2024-11-15T18:56:00.282154Z",
          "shell.execute_reply": "2024-11-15T18:59:15.283059Z"
        },
        "colab": {
          "referenced_widgets": [
            "12fddda009174334983ccf344fbeeb20",
            "5ae60fb031af4bcfb00f479e68aa239f"
          ]
        },
        "outputId": "dd0e6d10-350b-456f-a67d-a4302a838c13"
      },
      "outputs": [
        {
          "output_type": "display_data",
          "data": {
            "text/plain": "<IPython.core.display.HTML object>",
            "text/html": "Finishing last run (ID:lo7e201f) before initializing another..."
          },
          "metadata": {}
        },
        {
          "output_type": "display_data",
          "data": {
            "text/plain": "VBox(children=(Label(value='0.017 MB of 0.017 MB uploaded\\r'), FloatProgress(value=1.0, max=1.0)))",
            "application/vnd.jupyter.widget-view+json": {
              "version_major": 2,
              "version_minor": 0,
              "model_id": "12fddda009174334983ccf344fbeeb20"
            }
          },
          "metadata": {}
        },
        {
          "output_type": "display_data",
          "data": {
            "text/plain": "<IPython.core.display.HTML object>",
            "text/html": "<style>\n    table.wandb td:nth-child(1) { padding: 0 10px; text-align: left ; width: auto;} td:nth-child(2) {text-align: left ; width: 100%}\n    .wandb-row { display: flex; flex-direction: row; flex-wrap: wrap; justify-content: flex-start; width: 100% }\n    .wandb-col { display: flex; flex-direction: column; flex-basis: 100%; flex: 1; padding: 10px; }\n    </style>\n<div class=\"wandb-row\"><div class=\"wandb-col\"><h3>Run history:</h3><br/><table class=\"wandb\"><tr><td>Train Accuracy</td><td>▃▃▃▃▇▁▄▃▅▂▅▆▄▇▅▃▃▃▇▆▃▅▇▅▄▅▅▃█▄▅▆▅▅▅▁▅▃▃▃</td></tr><tr><td>Train Loss</td><td>▂▇▇▄▇▅▅▂█▃▆█▅▇▇▆▄▂▆▇█▁▁▆▄▃█▇▅▅▇▇▄▂▂▄▃▇▇▃</td></tr><tr><td>Validation Accuracy</td><td>▆▁▄▄▂█▇▄▆▇█</td></tr><tr><td>Validation Loss</td><td>▃█▄▄▅▁▂▄▃▂▁</td></tr></table><br/></div><div class=\"wandb-col\"><h3>Run summary:</h3><br/><table class=\"wandb\"><tr><td>Train Accuracy</td><td>0.75</td></tr><tr><td>Train Loss</td><td>0.7105</td></tr><tr><td>Validation Accuracy</td><td>0.72784</td></tr><tr><td>Validation Loss</td><td>0.80792</td></tr></table><br/></div></div>"
          },
          "metadata": {}
        },
        {
          "output_type": "display_data",
          "data": {
            "text/plain": "<IPython.core.display.HTML object>",
            "text/html": " View run <strong style=\"color:#cdcd00\">fresh-gorge-1</strong> at: <a href='https://wandb.ai/hoshicasia_-hse-university/MNIST/runs/lo7e201f' target=\"_blank\">https://wandb.ai/hoshicasia_-hse-university/MNIST/runs/lo7e201f</a><br/> View project at: <a href='https://wandb.ai/hoshicasia_-hse-university/MNIST' target=\"_blank\">https://wandb.ai/hoshicasia_-hse-university/MNIST</a><br/>Synced 5 W&B file(s), 0 media file(s), 0 artifact file(s) and 0 other file(s)"
          },
          "metadata": {}
        },
        {
          "output_type": "display_data",
          "data": {
            "text/plain": "<IPython.core.display.HTML object>",
            "text/html": "Find logs at: <code>./wandb/run-20241115_185351-lo7e201f/logs</code>"
          },
          "metadata": {}
        },
        {
          "output_type": "display_data",
          "data": {
            "text/plain": "<IPython.core.display.HTML object>",
            "text/html": "Successfully finished last run (ID:lo7e201f). Initializing new run:<br/>"
          },
          "metadata": {}
        },
        {
          "output_type": "display_data",
          "data": {
            "text/plain": "<IPython.core.display.HTML object>",
            "text/html": "Tracking run with wandb version 0.18.3"
          },
          "metadata": {}
        },
        {
          "output_type": "display_data",
          "data": {
            "text/plain": "<IPython.core.display.HTML object>",
            "text/html": "Run data is saved locally in <code>/kaggle/working/wandb/run-20241115_185600-oqv7t4o7</code>"
          },
          "metadata": {}
        },
        {
          "output_type": "display_data",
          "data": {
            "text/plain": "<IPython.core.display.HTML object>",
            "text/html": "Syncing run <strong><a href='https://wandb.ai/hoshicasia_-hse-university/MNIST/runs/oqv7t4o7' target=\"_blank\">serene-breeze-2</a></strong> to <a href='https://wandb.ai/hoshicasia_-hse-university/MNIST' target=\"_blank\">Weights & Biases</a> (<a href='https://wandb.me/run' target=\"_blank\">docs</a>)<br/>"
          },
          "metadata": {}
        },
        {
          "output_type": "display_data",
          "data": {
            "text/plain": "<IPython.core.display.HTML object>",
            "text/html": " View project at <a href='https://wandb.ai/hoshicasia_-hse-university/MNIST' target=\"_blank\">https://wandb.ai/hoshicasia_-hse-university/MNIST</a>"
          },
          "metadata": {}
        },
        {
          "output_type": "display_data",
          "data": {
            "text/plain": "<IPython.core.display.HTML object>",
            "text/html": " View run at <a href='https://wandb.ai/hoshicasia_-hse-university/MNIST/runs/oqv7t4o7' target=\"_blank\">https://wandb.ai/hoshicasia_-hse-university/MNIST/runs/oqv7t4o7</a>"
          },
          "metadata": {}
        },
        {
          "name": "stdout",
          "text": "Epoch 0\n train loss: 1.6006380413306478, train acc: 0.42879586714495255\n val loss: 1.4141442694562547, val acc: 0.5074689716734785\n\nEpoch 1\n train loss: 1.3364714259857233, train acc: 0.5270795246800731\n val loss: 1.244244027391393, val acc: 0.555673758907521\n\nEpoch 2\n train loss: 1.204708086507194, train acc: 0.576260120166939\n val loss: 1.1468338448950586, val acc: 0.5996897164811479\n\nEpoch 3\n train loss: 1.1262731115168583, train acc: 0.6032172238804958\n val loss: 1.2142075624871762, val acc: 0.5660904255319149\n\nEpoch 4\n train loss: 1.0737629026120061, train acc: 0.6239186146141624\n val loss: 1.04701618311253, val acc: 0.6370345744680851\n\nEpoch 5\n train loss: 1.037941673011187, train acc: 0.6366259140767825\n val loss: 1.0744268280394533, val acc: 0.6309840425531915\n\nEpoch 6\n train loss: 1.017992687399688, train acc: 0.6451831418591836\n val loss: 1.0814669500006007, val acc: 0.622938829787234\n\nEpoch 7\n train loss: 1.0024219758985684, train acc: 0.6488884174191756\n val loss: 1.0457423131516639, val acc: 0.6302083335024246\n\nEpoch 8\n train loss: 0.9822073794588092, train acc: 0.6585270305874142\n val loss: 0.9809480210568042, val acc: 0.6536347518575952\n\nEpoch 9\n train loss: 0.9705169718487825, train acc: 0.661554909929279\n val loss: 0.9884959540468581, val acc: 0.6526374114320633\n\nEpoch 10\n train loss: 0.9558862806238247, train acc: 0.6674760054844607\n val loss: 0.9918917214616816, val acc: 0.6556072696726373\n\nEpoch 11\n train loss: 0.9467045149376013, train acc: 0.668981783786683\n val loss: 0.9958466884937692, val acc: 0.6540115249917863\n\nEpoch 12\n train loss: 0.9395447011621604, train acc: 0.6745111322272195\n val loss: 0.9528164762131711, val acc: 0.6723847518575953\n\nEpoch 13\n train loss: 0.9275528491088197, train acc: 0.676669822423506\n val loss: 0.9949932060343154, val acc: 0.6576462765957447\n\nEpoch 14\n train loss: 0.9245673590212026, train acc: 0.6778205798792447\n val loss: 0.9719188834758515, val acc: 0.662344858240574\n\nEpoch 15\n train loss: 0.9140157502355698, train acc: 0.6820032972522366\n val loss: 0.9419458678428163, val acc: 0.6776374114320634\n\nEpoch 16\n train loss: 0.911715473073928, train acc: 0.6822522199785905\n val loss: 0.9576562665878459, val acc: 0.6704122340425532\n\nEpoch 17\n train loss: 0.8982931960653343, train acc: 0.6865451162650337\n val loss: 0.9531735280726819, val acc: 0.6652703901554676\n\nEpoch 18\n train loss: 0.8981286799450026, train acc: 0.6851535975606176\n val loss: 0.9353128950646583, val acc: 0.6802526595744681\n\nEpoch 19\n train loss: 0.8876921313336388, train acc: 0.6895240271767054\n val loss: 0.9362255197890261, val acc: 0.678656914893617\n\n",
          "output_type": "stream"
        },
        {
          "output_type": "display_data",
          "data": {
            "text/plain": "VBox(children=(Label(value='0.018 MB of 0.018 MB uploaded\\r'), FloatProgress(value=1.0, max=1.0)))",
            "application/vnd.jupyter.widget-view+json": {
              "version_major": 2,
              "version_minor": 0,
              "model_id": "5ae60fb031af4bcfb00f479e68aa239f"
            }
          },
          "metadata": {}
        },
        {
          "output_type": "display_data",
          "data": {
            "text/plain": "<IPython.core.display.HTML object>",
            "text/html": "<style>\n    table.wandb td:nth-child(1) { padding: 0 10px; text-align: left ; width: auto;} td:nth-child(2) {text-align: left ; width: 100%}\n    .wandb-row { display: flex; flex-direction: row; flex-wrap: wrap; justify-content: flex-start; width: 100% }\n    .wandb-col { display: flex; flex-direction: column; flex-basis: 100%; flex: 1; padding: 10px; }\n    </style>\n<div class=\"wandb-row\"><div class=\"wandb-col\"><h3>Run history:</h3><br/><table class=\"wandb\"><tr><td>Train Accuracy</td><td>▄▆▁▄▄▄▆▇▅▆▃▆▄▆▆▅▇▅▅▇▅▇▆▆▇▄▅▆▇▇▆▆▆▇▅▅▇▅▄█</td></tr><tr><td>Train Loss</td><td>█▆▅▅▄▄▃▃▃▄▄▃▂▃▃▃▄▄▄▃▃▂▂▃▄▃▂▂▃▃▄▂▃▂▂▁▃▄▃▃</td></tr><tr><td>Validation Accuracy</td><td>▁▃▅▃▆▆▆▆▇▇▇▇█▇▇██▇██</td></tr><tr><td>Validation Loss</td><td>█▆▄▅▃▃▃▃▂▂▂▂▁▂▂▁▁▁▁▁</td></tr></table><br/></div><div class=\"wandb-col\"><h3>Run summary:</h3><br/><table class=\"wandb\"><tr><td>Train Accuracy</td><td>0.60714</td></tr><tr><td>Train Loss</td><td>1.01849</td></tr><tr><td>Validation Accuracy</td><td>0.67866</td></tr><tr><td>Validation Loss</td><td>0.93623</td></tr></table><br/></div></div>"
          },
          "metadata": {}
        },
        {
          "output_type": "display_data",
          "data": {
            "text/plain": "<IPython.core.display.HTML object>",
            "text/html": " View run <strong style=\"color:#cdcd00\">serene-breeze-2</strong> at: <a href='https://wandb.ai/hoshicasia_-hse-university/MNIST/runs/oqv7t4o7' target=\"_blank\">https://wandb.ai/hoshicasia_-hse-university/MNIST/runs/oqv7t4o7</a><br/> View project at: <a href='https://wandb.ai/hoshicasia_-hse-university/MNIST' target=\"_blank\">https://wandb.ai/hoshicasia_-hse-university/MNIST</a><br/>Synced 5 W&B file(s), 0 media file(s), 0 artifact file(s) and 0 other file(s)"
          },
          "metadata": {}
        },
        {
          "output_type": "display_data",
          "data": {
            "text/plain": "<IPython.core.display.HTML object>",
            "text/html": "Find logs at: <code>./wandb/run-20241115_185600-oqv7t4o7/logs</code>"
          },
          "metadata": {}
        }
      ],
      "execution_count": null
    },
    {
      "cell_type": "code",
      "source": [
        "wandb.init(project='MNIST')\n",
        "loss, acc = test(net, test_loader)\n",
        "wandb.finish()"
      ],
      "metadata": {
        "trusted": true,
        "execution": {
          "iopub.status.busy": "2024-11-15T19:01:49.961313Z",
          "iopub.execute_input": "2024-11-15T19:01:49.961798Z",
          "iopub.status.idle": "2024-11-15T19:01:54.481343Z",
          "shell.execute_reply.started": "2024-11-15T19:01:49.961745Z",
          "shell.execute_reply": "2024-11-15T19:01:54.480480Z"
        },
        "colab": {
          "referenced_widgets": [
            "802a0b748daa46c492e0effb45567136"
          ]
        },
        "id": "7BPlbdw9Qval",
        "outputId": "6d89387b-67ac-46e6-f457-a2d6664a507f"
      },
      "outputs": [
        {
          "name": "stderr",
          "text": "\u001b[34m\u001b[1mwandb\u001b[0m: Currently logged in as: \u001b[33mhoshicasia_\u001b[0m (\u001b[33mhoshicasia_-hse-university\u001b[0m). Use \u001b[1m`wandb login --relogin`\u001b[0m to force relogin\n",
          "output_type": "stream"
        },
        {
          "output_type": "display_data",
          "data": {
            "text/plain": "<IPython.core.display.HTML object>",
            "text/html": "Tracking run with wandb version 0.18.3"
          },
          "metadata": {}
        },
        {
          "output_type": "display_data",
          "data": {
            "text/plain": "<IPython.core.display.HTML object>",
            "text/html": "Run data is saved locally in <code>/kaggle/working/wandb/run-20241115_190149-8snb1myc</code>"
          },
          "metadata": {}
        },
        {
          "output_type": "display_data",
          "data": {
            "text/plain": "<IPython.core.display.HTML object>",
            "text/html": "Syncing run <strong><a href='https://wandb.ai/hoshicasia_-hse-university/MNIST/runs/8snb1myc' target=\"_blank\">swift-frog-3</a></strong> to <a href='https://wandb.ai/hoshicasia_-hse-university/MNIST' target=\"_blank\">Weights & Biases</a> (<a href='https://wandb.me/run' target=\"_blank\">docs</a>)<br/>"
          },
          "metadata": {}
        },
        {
          "output_type": "display_data",
          "data": {
            "text/plain": "<IPython.core.display.HTML object>",
            "text/html": " View project at <a href='https://wandb.ai/hoshicasia_-hse-university/MNIST' target=\"_blank\">https://wandb.ai/hoshicasia_-hse-university/MNIST</a>"
          },
          "metadata": {}
        },
        {
          "output_type": "display_data",
          "data": {
            "text/plain": "<IPython.core.display.HTML object>",
            "text/html": " View run at <a href='https://wandb.ai/hoshicasia_-hse-university/MNIST/runs/8snb1myc' target=\"_blank\">https://wandb.ai/hoshicasia_-hse-university/MNIST/runs/8snb1myc</a>"
          },
          "metadata": {}
        },
        {
          "output_type": "display_data",
          "data": {
            "text/plain": "VBox(children=(Label(value='0.016 MB of 0.016 MB uploaded\\r'), FloatProgress(value=1.0, max=1.0)))",
            "application/vnd.jupyter.widget-view+json": {
              "version_major": 2,
              "version_minor": 0,
              "model_id": "802a0b748daa46c492e0effb45567136"
            }
          },
          "metadata": {}
        },
        {
          "output_type": "display_data",
          "data": {
            "text/plain": "<IPython.core.display.HTML object>",
            "text/html": "<style>\n    table.wandb td:nth-child(1) { padding: 0 10px; text-align: left ; width: auto;} td:nth-child(2) {text-align: left ; width: 100%}\n    .wandb-row { display: flex; flex-direction: row; flex-wrap: wrap; justify-content: flex-start; width: 100% }\n    .wandb-col { display: flex; flex-direction: column; flex-basis: 100%; flex: 1; padding: 10px; }\n    </style>\n<div class=\"wandb-row\"><div class=\"wandb-col\"><h3>Run history:</h3><br/><table class=\"wandb\"><tr><td>Validation Accuracy</td><td>▁</td></tr><tr><td>Validation Loss</td><td>▁</td></tr></table><br/></div><div class=\"wandb-col\"><h3>Run summary:</h3><br/><table class=\"wandb\"><tr><td>Validation Accuracy</td><td>0.67008</td></tr><tr><td>Validation Loss</td><td>0.94849</td></tr></table><br/></div></div>"
          },
          "metadata": {}
        },
        {
          "output_type": "display_data",
          "data": {
            "text/plain": "<IPython.core.display.HTML object>",
            "text/html": " View run <strong style=\"color:#cdcd00\">swift-frog-3</strong> at: <a href='https://wandb.ai/hoshicasia_-hse-university/MNIST/runs/8snb1myc' target=\"_blank\">https://wandb.ai/hoshicasia_-hse-university/MNIST/runs/8snb1myc</a><br/> View project at: <a href='https://wandb.ai/hoshicasia_-hse-university/MNIST' target=\"_blank\">https://wandb.ai/hoshicasia_-hse-university/MNIST</a><br/>Synced 5 W&B file(s), 0 media file(s), 0 artifact file(s) and 0 other file(s)"
          },
          "metadata": {}
        },
        {
          "output_type": "display_data",
          "data": {
            "text/plain": "<IPython.core.display.HTML object>",
            "text/html": "Find logs at: <code>./wandb/run-20241115_190149-8snb1myc/logs</code>"
          },
          "metadata": {}
        }
      ],
      "execution_count": null
    },
    {
      "cell_type": "markdown",
      "source": [
        "Графики:\n",
        "https://api.wandb.ai/links/hoshicasia_-hse-university/szfjov8n\n",
        "https://api.wandb.ai/links/hoshicasia_-hse-university/5bm1a9jr"
      ],
      "metadata": {
        "id": "UeVmM5wMQval"
      }
    },
    {
      "cell_type": "markdown",
      "source": [
        "Почему-то одинаковым цветом отображаются по ссылке("
      ],
      "metadata": {
        "id": "KLZuN3ltRXu0"
      }
    }
  ]
}